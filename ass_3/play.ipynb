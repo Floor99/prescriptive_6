{
 "cells": [
  {
   "cell_type": "code",
   "execution_count": 1,
   "metadata": {},
   "outputs": [],
   "source": [
    "%load_ext autoreload\n",
    "%autoreload 2"
   ]
  },
  {
   "cell_type": "code",
   "execution_count": 175,
   "metadata": {},
   "outputs": [],
   "source": [
    "from ass_3.day import StartDay\n",
    "from ass_3.team import Team"
   ]
  },
  {
   "cell_type": "code",
   "execution_count": 176,
   "metadata": {},
   "outputs": [
    {
     "ename": "ImportError",
     "evalue": "cannot import name 'create_random_chromosome' from 'ass_3.chromosome' (/home/floor/projects/master_year_1/prescriptive_algorithms/assignment3/prescriptive_6/ass_3/ass_3/chromosome/__init__.py)",
     "output_type": "error",
     "traceback": [
      "\u001b[0;31m---------------------------------------------------------------------------\u001b[0m",
      "\u001b[0;31mImportError\u001b[0m                               Traceback (most recent call last)",
      "Cell \u001b[0;32mIn[176], line 1\u001b[0m\n\u001b[0;32m----> 1\u001b[0m \u001b[38;5;28;01mfrom\u001b[39;00m \u001b[38;5;21;01mass_3\u001b[39;00m\u001b[38;5;21;01m.\u001b[39;00m\u001b[38;5;21;01mchromosome\u001b[39;00m \u001b[38;5;28;01mimport\u001b[39;00m Chromosome, create_random_chromosome, initialize_population\n\u001b[1;32m      2\u001b[0m \u001b[38;5;66;03m# from ass_3.maintenance import MaintenanceTime\u001b[39;00m\n\u001b[1;32m      3\u001b[0m \u001b[38;5;28;01mfrom\u001b[39;00m \u001b[38;5;21;01mass_3\u001b[39;00m\u001b[38;5;21;01m.\u001b[39;00m\u001b[38;5;21;01mgene\u001b[39;00m \u001b[38;5;28;01mimport\u001b[39;00m EngineGene\n",
      "\u001b[0;31mImportError\u001b[0m: cannot import name 'create_random_chromosome' from 'ass_3.chromosome' (/home/floor/projects/master_year_1/prescriptive_algorithms/assignment3/prescriptive_6/ass_3/ass_3/chromosome/__init__.py)"
     ]
    }
   ],
   "source": [
    "from ass_3.chromosome import Chromosome, create_random_chromosome, initialize_population\n",
    "# from ass_3.maintenance import MaintenanceTime\n",
    "from ass_3.gene import EngineGene\n",
    "from ass_3.penalty import EnginePenalty\n",
    "from ass_3.engine import Engine\n",
    "from ass_3.day import StartDay\n",
    "from ass_3.team import Team\n",
    "\n",
    "chromo = create_random_chromosome(168)\n",
    "chromo.engine_gene_elements\n",
    "\n",
    "chromo.engine_ids\n",
    "\n",
    "StartDay(chromo.engine_genes[0].start_day.bits)\n",
    "\n",
    "Team(chromo.engine_genes[0].team.bits)\n",
    "\n",
    "# pop = initialize_population(5, 14)\n",
    "# pop \n",
    "\n",
    "# MaintenanceTime(chromo.engine_genes[0])\n",
    "# Penalty(3, Engine(chromo.engine_genes[0].engine_id, 45))\n"
   ]
  },
  {
   "cell_type": "code",
   "execution_count": 51,
   "metadata": {},
   "outputs": [
    {
     "data": {
      "text/plain": [
       "StartDay(bits=[1, 1, 1, 1, 0], start_day=30)"
      ]
     },
     "execution_count": 51,
     "metadata": {},
     "output_type": "execute_result"
    }
   ],
   "source": [
    "chromo.engine_genes[0].start_day"
   ]
  },
  {
   "cell_type": "code",
   "execution_count": 41,
   "metadata": {},
   "outputs": [
    {
     "name": "stdout",
     "output_type": "stream",
     "text": [
      "1\n",
      "2\n",
      "3\n"
     ]
    }
   ],
   "source": [
    "ls = [1,2,3]\n",
    "\n",
    "for joost_klein_is_awesome in ls:\n",
    "    print(joost_klein_is_awesome)"
   ]
  },
  {
   "cell_type": "code",
   "execution_count": 6,
   "metadata": {},
   "outputs": [
    {
     "name": "stdout",
     "output_type": "stream",
     "text": [
      "Engine\n"
     ]
    },
    {
     "data": {
      "text/plain": [
       "Engine(engine_id=3, rul=45)"
      ]
     },
     "execution_count": 6,
     "metadata": {},
     "output_type": "execute_result"
    }
   ],
   "source": [
    "from ass_3.engine import Engine\n",
    "\n",
    "eng = Engine(3,45)\n",
    "eng"
   ]
  },
  {
   "cell_type": "code",
   "execution_count": 11,
   "metadata": {},
   "outputs": [
    {
     "data": {
      "text/html": [
       "<div>\n",
       "<style scoped>\n",
       "    .dataframe tbody tr th:only-of-type {\n",
       "        vertical-align: middle;\n",
       "    }\n",
       "\n",
       "    .dataframe tbody tr th {\n",
       "        vertical-align: top;\n",
       "    }\n",
       "\n",
       "    .dataframe thead th {\n",
       "        text-align: right;\n",
       "    }\n",
       "</style>\n",
       "<table border=\"1\" class=\"dataframe\">\n",
       "  <thead>\n",
       "    <tr style=\"text-align: right;\">\n",
       "      <th></th>\n",
       "      <th>RUL;id</th>\n",
       "    </tr>\n",
       "  </thead>\n",
       "  <tbody>\n",
       "    <tr>\n",
       "      <th>0</th>\n",
       "      <td>135;1</td>\n",
       "    </tr>\n",
       "    <tr>\n",
       "      <th>1</th>\n",
       "      <td>125;2</td>\n",
       "    </tr>\n",
       "    <tr>\n",
       "      <th>2</th>\n",
       "      <td>63;3</td>\n",
       "    </tr>\n",
       "    <tr>\n",
       "      <th>3</th>\n",
       "      <td>100;4</td>\n",
       "    </tr>\n",
       "    <tr>\n",
       "      <th>4</th>\n",
       "      <td>103;5</td>\n",
       "    </tr>\n",
       "    <tr>\n",
       "      <th>...</th>\n",
       "      <td>...</td>\n",
       "    </tr>\n",
       "    <tr>\n",
       "      <th>95</th>\n",
       "      <td>140;96</td>\n",
       "    </tr>\n",
       "    <tr>\n",
       "      <th>96</th>\n",
       "      <td>109;97</td>\n",
       "    </tr>\n",
       "    <tr>\n",
       "      <th>97</th>\n",
       "      <td>87;98</td>\n",
       "    </tr>\n",
       "    <tr>\n",
       "      <th>98</th>\n",
       "      <td>127;99</td>\n",
       "    </tr>\n",
       "    <tr>\n",
       "      <th>99</th>\n",
       "      <td>24;100</td>\n",
       "    </tr>\n",
       "  </tbody>\n",
       "</table>\n",
       "<p>100 rows × 1 columns</p>\n",
       "</div>"
      ],
      "text/plain": [
       "    RUL;id\n",
       "0    135;1\n",
       "1    125;2\n",
       "2     63;3\n",
       "3    100;4\n",
       "4    103;5\n",
       "..     ...\n",
       "95  140;96\n",
       "96  109;97\n",
       "97   87;98\n",
       "98  127;99\n",
       "99  24;100\n",
       "\n",
       "[100 rows x 1 columns]"
      ]
     },
     "execution_count": 11,
     "metadata": {},
     "output_type": "execute_result"
    }
   ],
   "source": [
    "import pandas as pd\n",
    "\n",
    "pd.read_csv(\"ass_3/data/RUL_consultancy_predictions_A3-2.csv\")"
   ]
  },
  {
   "cell_type": "code",
   "execution_count": 59,
   "metadata": {},
   "outputs": [
    {
     "data": {
      "text/plain": [
       "[135,\n",
       " 125,\n",
       " 63,\n",
       " 100,\n",
       " 103,\n",
       " 122,\n",
       " 106,\n",
       " 90,\n",
       " 121,\n",
       " 67,\n",
       " 101,\n",
       " 89,\n",
       " 87,\n",
       " 122,\n",
       " 114,\n",
       " 101,\n",
       " 52,\n",
       " 33,\n",
       " 84,\n",
       " 10,\n",
       " 63,\n",
       " 141,\n",
       " 119,\n",
       " 26,\n",
       " 173,\n",
       " 128,\n",
       " 70,\n",
       " 96,\n",
       " 96,\n",
       " 87,\n",
       " 14,\n",
       " 54,\n",
       " 128,\n",
       " 8,\n",
       " 8,\n",
       " 24,\n",
       " 21,\n",
       " 58,\n",
       " 144,\n",
       " 29,\n",
       " 23,\n",
       " 13,\n",
       " 67,\n",
       " 146,\n",
       " 100,\n",
       " 53,\n",
       " 130,\n",
       " 151,\n",
       " 14,\n",
       " 100,\n",
       " 106,\n",
       " 34,\n",
       " 34,\n",
       " 126,\n",
       " 174,\n",
       " 18,\n",
       " 102,\n",
       " 38,\n",
       " 113,\n",
       " 112,\n",
       " 23,\n",
       " 54,\n",
       " 75,\n",
       " 24,\n",
       " 152,\n",
       " 18,\n",
       " 174,\n",
       " 13,\n",
       " 130,\n",
       " 90,\n",
       " 130,\n",
       " 59,\n",
       " 113,\n",
       " 115,\n",
       " 115,\n",
       " 3,\n",
       " 27,\n",
       " 165,\n",
       " 82,\n",
       " 84,\n",
       " 6,\n",
       " 11,\n",
       " 182,\n",
       " 53,\n",
       " 142,\n",
       " 113,\n",
       " 126,\n",
       " 117,\n",
       " 111,\n",
       " 28,\n",
       " 29,\n",
       " 24,\n",
       " 51,\n",
       " 55,\n",
       " 143,\n",
       " 140,\n",
       " 109,\n",
       " 87,\n",
       " 127,\n",
       " 24]"
      ]
     },
     "execution_count": 59,
     "metadata": {},
     "output_type": "execute_result"
    }
   ],
   "source": [
    "import pandas as pd\n",
    "RUL = pd.read_csv('ass_3/data/RUL_consultancy_predictions_A3-2.csv', sep = \";\")\n",
    "\n",
    "\n",
    "RUL_list = RUL['RUL'].tolist()\n",
    "RUL_list"
   ]
  },
  {
   "cell_type": "code",
   "execution_count": 93,
   "metadata": {},
   "outputs": [],
   "source": [
    "\n",
    "from ass_3.constraints import CompletesMaintenanceIn30Days, Day31Constraint, TeamWorksAtOneEngine\n",
    "from ass_3.initialization import create_random_chromosome, initialize_population\n",
    "\n",
    "constraints = [\n",
    "    Day31Constraint(),\n",
    "    CompletesMaintenanceIn30Days(),\n",
    "    TeamWorksAtOneEngine(),\n",
    "    \n",
    "]\n",
    "chromo = create_random_chromosome(14, constraints)"
   ]
  },
  {
   "cell_type": "code",
   "execution_count": 95,
   "metadata": {},
   "outputs": [
    {
     "data": {
      "text/plain": [
       "[<ass_3.chromosome.Chromosome at 0x7f20d4f86c10>,\n",
       " <ass_3.chromosome.Chromosome at 0x7f20d4f84050>]"
      ]
     },
     "execution_count": 95,
     "metadata": {},
     "output_type": "execute_result"
    }
   ],
   "source": [
    "population = initialize_population(2,  14, constraints)\n",
    "population"
   ]
  },
  {
   "cell_type": "code",
   "execution_count": 159,
   "metadata": {},
   "outputs": [
    {
     "name": "stdout",
     "output_type": "stream",
     "text": [
      "Chromosome(bits=[1, 1, 0, 0, 0, 1, 0, 1, 1, 1, 1, 0, 0, 1, 0, 0, 0, 1, 0, 1, 1, 1, 1, 1, 0, 0, 1, 1, 1, 1, 0, 1, 0, 0, 0, 0, 1, 1, 0, 0, 1, 1, 0, 1, 1, 1, 0, 0, 0, 1, 0, 1, 0, 0, 0, 1, 1, 1, 0, 0, 1, 0, 0, 1, 0, 1, 1, 0, 0, 1, 1, 0, 1, 0, 0, 0, 0, 1, 0, 1, 1, 1, 0, 0, 1, 0, 1, 0, 1, 0, 1, 0, 0, 1, 0, 0, 0, 0, 1, 0, 0, 1, 0, 1, 0, 0, 1, 1, 0, 1, 0, 0, 0, 1, 1, 1, 0, 1, 1, 0, 0, 0, 1, 1, 1, 1, 1, 0, 0, 1, 0, 1, 0, 0, 0, 0, 1, 1, 1, 1, 0, 1, 1, 0, 0, 1, 1, 1, 1, 0, 0, 1, 0, 1, 1, 0, 1, 0, 0, 0, 0, 1, 1, 1, 0, 1, 0, 0],\n",
      " engine_genes=[EngineGene(engine_id=20, bits=[1, 1, 0, 0, 0, 1, 0], start_day=StartDay(bits=[0, 0, 0, 1, 0], start_day=2), team=Team(bits=[1, 1], team=3, kind='b')), EngineGene(engine_id=24, bits=[1, 1, 1, 1, 0, 0, 1], start_day=StartDay(bits=[1, 1, 0, 0, 1], start_day=25), team=Team(bits=[1, 1], team=3, kind='b')), EngineGene(engine_id=31, bits=[0, 0, 0, 1, 0, 1, 1], start_day=StartDay(bits=[0, 1, 0, 1, 1], start_day=11), team=Team(bits=[0, 0], team=0, kind='a')), EngineGene(engine_id=34, bits=[1, 1, 1, 0, 0, 1, 1], start_day=StartDay(bits=[1, 0, 0, 1, 1], start_day=19), team=Team(bits=[1, 1], team=3, kind='b')), EngineGene(engine_id=35, bits=[1, 1, 0, 1, 0, 0, 0], start_day=StartDay(bits=[0, 1, 0, 0, 0], start_day=8), team=Team(bits=[1, 1], team=3, kind='b')), EngineGene(engine_id=36, bits=[0, 1, 1, 0, 0, 1, 1], start_day=StartDay(bits=[1, 0, 0, 1, 1], start_day=19), team=Team(bits=[0, 1], team=1, kind='b')), EngineGene(engine_id=37, bits=[0, 1, 1, 1, 0, 0, 0], start_day=StartDay(bits=[1, 1, 0, 0, 0], start_day=24), team=Team(bits=[0, 1], team=1, kind='b')), EngineGene(engine_id=40, bits=[1, 0, 1, 0, 0, 0, 1], start_day=StartDay(bits=[1, 0, 0, 0, 1], start_day=17), team=Team(bits=[1, 0], team=2, kind='a')), EngineGene(engine_id=41, bits=[1, 1, 0, 0, 1, 0, 0], start_day=StartDay(bits=[0, 0, 1, 0, 0], start_day=4), team=Team(bits=[1, 1], team=3, kind='b')), EngineGene(engine_id=42, bits=[1, 0, 1, 1, 0, 0, 1], start_day=StartDay(bits=[1, 1, 0, 0, 1], start_day=25), team=Team(bits=[1, 0], team=2, kind='a')), EngineGene(engine_id=49, bits=[1, 0, 1, 0, 0, 0, 0], start_day=StartDay(bits=[1, 0, 0, 0, 0], start_day=16), team=Team(bits=[1, 0], team=2, kind='a')), EngineGene(engine_id=56, bits=[1, 0, 1, 1, 1, 0, 0], start_day=StartDay(bits=[1, 1, 1, 0, 0], start_day=28), team=Team(bits=[1, 0], team=2, kind='a')), EngineGene(engine_id=61, bits=[1, 0, 1, 0, 1, 0, 1], start_day=StartDay(bits=[1, 0, 1, 0, 1], start_day=21), team=Team(bits=[1, 0], team=2, kind='a')), EngineGene(engine_id=64, bits=[0, 0, 1, 0, 0, 0, 0], start_day=StartDay(bits=[1, 0, 0, 0, 0], start_day=16), team=Team(bits=[0, 0], team=0, kind='a')), EngineGene(engine_id=66, bits=[1, 0, 0, 1, 0, 1, 0], start_day=StartDay(bits=[0, 1, 0, 1, 0], start_day=10), team=Team(bits=[1, 0], team=2, kind='a')), EngineGene(engine_id=68, bits=[0, 1, 1, 0, 1, 0, 0], start_day=StartDay(bits=[1, 0, 1, 0, 0], start_day=20), team=Team(bits=[0, 1], team=1, kind='b')), EngineGene(engine_id=76, bits=[0, 1, 1, 1, 0, 1, 1], start_day=StartDay(bits=[1, 1, 0, 1, 1], start_day=27), team=Team(bits=[0, 1], team=1, kind='b')), EngineGene(engine_id=77, bits=[0, 0, 0, 1, 1, 1, 1], start_day=StartDay(bits=[0, 1, 1, 1, 1], start_day=15), team=Team(bits=[0, 0], team=0, kind='a')), EngineGene(engine_id=81, bits=[1, 0, 0, 1, 0, 1, 0], start_day=StartDay(bits=[0, 1, 0, 1, 0], start_day=10), team=Team(bits=[1, 0], team=2, kind='a')), EngineGene(engine_id=82, bits=[0, 0, 0, 1, 1, 1, 1], start_day=StartDay(bits=[0, 1, 1, 1, 1], start_day=15), team=Team(bits=[0, 0], team=0, kind='a')), EngineGene(engine_id=90, bits=[0, 1, 1, 0, 0, 1, 1], start_day=StartDay(bits=[1, 0, 0, 1, 1], start_day=19), team=Team(bits=[0, 1], team=1, kind='b')), EngineGene(engine_id=91, bits=[1, 1, 0, 0, 1, 0, 1], start_day=StartDay(bits=[0, 0, 1, 0, 1], start_day=5), team=Team(bits=[1, 1], team=3, kind='b')), EngineGene(engine_id=92, bits=[1, 0, 1, 0, 0, 0, 0], start_day=StartDay(bits=[1, 0, 0, 0, 0], start_day=16), team=Team(bits=[1, 0], team=2, kind='a')), EngineGene(engine_id=100, bits=[1, 1, 1, 0, 1, 0, 0], start_day=StartDay(bits=[1, 0, 1, 0, 0], start_day=20), team=Team(bits=[1, 1], team=3, kind='b'))],\n",
      " penalty=1467)\n",
      "Chromosome(bits=[1, 0, 0, 0, 0, 1, 0, 1, 0, 0, 0, 1, 0, 0, 0, 1, 1, 0, 1, 1, 1, 0, 1, 0, 1, 1, 0, 1, 0, 0, 0, 0, 1, 1, 1, 1, 0, 0, 0, 1, 1, 1, 0, 0, 1, 1, 0, 1, 0, 1, 1, 0, 0, 0, 1, 0, 0, 1, 0, 0, 0, 1, 1, 1, 1, 1, 0, 0, 0, 1, 1, 0, 0, 0, 1, 0, 1, 1, 0, 1, 0, 1, 0, 1, 0, 0, 1, 1, 0, 1, 0, 0, 0, 0, 1, 0, 1, 0, 0, 1, 1, 1, 0, 1, 0, 0, 1, 1, 1, 0, 0, 1, 0, 1, 1, 1, 0, 0, 0, 0, 0, 0, 1, 0, 0, 0, 1, 1, 1, 0, 0, 0, 0, 1, 1, 0, 0, 1, 0, 0, 1, 1, 1, 0, 1, 0, 0, 0, 1, 0, 0, 1, 0, 0, 1, 0, 0, 1, 0, 1, 0, 0, 1, 1, 0, 0, 1, 1],\n",
      " engine_genes=[EngineGene(engine_id=20, bits=[1, 0, 0, 0, 0, 1, 0], start_day=StartDay(bits=[0, 0, 0, 1, 0], start_day=2), team=Team(bits=[1, 0], team=2, kind='a')), EngineGene(engine_id=24, bits=[1, 0, 0, 0, 1, 0, 0], start_day=StartDay(bits=[0, 0, 1, 0, 0], start_day=4), team=Team(bits=[1, 0], team=2, kind='a')), EngineGene(engine_id=31, bits=[0, 1, 1, 0, 1, 1, 1], start_day=StartDay(bits=[1, 0, 1, 1, 1], start_day=23), team=Team(bits=[0, 1], team=1, kind='b')), EngineGene(engine_id=34, bits=[0, 1, 0, 1, 1, 0, 1], start_day=StartDay(bits=[0, 1, 1, 0, 1], start_day=13), team=Team(bits=[0, 1], team=1, kind='b')), EngineGene(engine_id=35, bits=[0, 0, 0, 0, 1, 1, 1], start_day=StartDay(bits=[0, 0, 1, 1, 1], start_day=7), team=Team(bits=[0, 0], team=0, kind='a')), EngineGene(engine_id=36, bits=[1, 0, 0, 0, 1, 1, 1], start_day=StartDay(bits=[0, 0, 1, 1, 1], start_day=7), team=Team(bits=[1, 0], team=2, kind='a')), EngineGene(engine_id=37, bits=[0, 0, 1, 1, 0, 1, 0], start_day=StartDay(bits=[1, 1, 0, 1, 0], start_day=26), team=Team(bits=[0, 0], team=0, kind='a')), EngineGene(engine_id=40, bits=[1, 1, 0, 0, 0, 1, 0], start_day=StartDay(bits=[0, 0, 0, 1, 0], start_day=2), team=Team(bits=[1, 1], team=3, kind='b')), EngineGene(engine_id=41, bits=[0, 1, 0, 0, 0, 1, 1], start_day=StartDay(bits=[0, 0, 0, 1, 1], start_day=3), team=Team(bits=[0, 1], team=1, kind='b')), EngineGene(engine_id=42, bits=[1, 1, 1, 0, 0, 0, 1], start_day=StartDay(bits=[1, 0, 0, 0, 1], start_day=17), team=Team(bits=[1, 1], team=3, kind='b')), EngineGene(engine_id=49, bits=[1, 0, 0, 0, 1, 0, 1], start_day=StartDay(bits=[0, 0, 1, 0, 1], start_day=5), team=Team(bits=[1, 0], team=2, kind='a')), EngineGene(engine_id=56, bits=[1, 0, 1, 0, 1, 0, 1], start_day=StartDay(bits=[1, 0, 1, 0, 1], start_day=21), team=Team(bits=[1, 0], team=2, kind='a')), EngineGene(engine_id=61, bits=[0, 0, 1, 1, 0, 1, 0], start_day=StartDay(bits=[1, 1, 0, 1, 0], start_day=26), team=Team(bits=[0, 0], team=0, kind='a')), EngineGene(engine_id=64, bits=[0, 0, 0, 1, 0, 1, 0], start_day=StartDay(bits=[0, 1, 0, 1, 0], start_day=10), team=Team(bits=[0, 0], team=0, kind='a')), EngineGene(engine_id=66, bits=[0, 1, 1, 1, 0, 1, 0], start_day=StartDay(bits=[1, 1, 0, 1, 0], start_day=26), team=Team(bits=[0, 1], team=1, kind='b')), EngineGene(engine_id=68, bits=[0, 1, 1, 1, 0, 0, 1], start_day=StartDay(bits=[1, 1, 0, 0, 1], start_day=25), team=Team(bits=[0, 1], team=1, kind='b')), EngineGene(engine_id=76, bits=[0, 1, 1, 1, 0, 0, 0], start_day=StartDay(bits=[1, 1, 0, 0, 0], start_day=24), team=Team(bits=[0, 1], team=1, kind='b')), EngineGene(engine_id=77, bits=[0, 0, 0, 1, 0, 0, 0], start_day=StartDay(bits=[0, 1, 0, 0, 0], start_day=8), team=Team(bits=[0, 0], team=0, kind='a')), EngineGene(engine_id=81, bits=[1, 1, 1, 0, 0, 0, 0], start_day=StartDay(bits=[1, 0, 0, 0, 0], start_day=16), team=Team(bits=[1, 1], team=3, kind='b')), EngineGene(engine_id=82, bits=[1, 1, 0, 0, 1, 0, 0], start_day=StartDay(bits=[0, 0, 1, 0, 0], start_day=4), team=Team(bits=[1, 1], team=3, kind='b')), EngineGene(engine_id=90, bits=[1, 1, 1, 0, 1, 0, 0], start_day=StartDay(bits=[1, 0, 1, 0, 0], start_day=20), team=Team(bits=[1, 1], team=3, kind='b')), EngineGene(engine_id=91, bits=[0, 1, 0, 0, 1, 0, 0], start_day=StartDay(bits=[0, 0, 1, 0, 0], start_day=4), team=Team(bits=[0, 1], team=1, kind='b')), EngineGene(engine_id=92, bits=[1, 0, 0, 1, 0, 1, 0], start_day=StartDay(bits=[0, 1, 0, 1, 0], start_day=10), team=Team(bits=[1, 0], team=2, kind='a')), EngineGene(engine_id=100, bits=[0, 1, 1, 0, 0, 1, 1], start_day=StartDay(bits=[1, 0, 0, 1, 1], start_day=19), team=Team(bits=[0, 1], team=1, kind='b'))],\n",
      " penalty=1384)\n",
      "Chromosome(bits=[0, 0, 1, 0, 0, 1, 1, 1, 1, 0, 0, 0, 1, 0, 1, 0, 1, 0, 1, 1, 1, 0, 0, 0, 0, 1, 1, 1, 0, 1, 1, 0, 0, 1, 1, 1, 0, 1, 1, 0, 1, 0, 0, 1, 1, 1, 0, 0, 1, 1, 1, 1, 0, 1, 1, 1, 0, 1, 1, 0, 0, 1, 0, 1, 0, 1, 0, 1, 0, 1, 0, 0, 0, 0, 0, 1, 1, 0, 0, 1, 0, 1, 0, 1, 0, 1, 1, 0, 0, 1, 0, 0, 1, 1, 0, 1, 1, 0, 1, 0, 0, 0, 1, 0, 0, 1, 1, 0, 1, 0, 0, 1, 0, 0, 1, 0, 0, 0, 1, 1, 1, 0, 0, 1, 0, 0, 0, 1, 0, 0, 0, 1, 1, 0, 0, 0, 1, 1, 0, 0, 0, 1, 1, 0, 0, 0, 1, 0, 1, 1, 0, 1, 0, 1, 0, 0, 0, 0, 1, 0, 1, 1, 1, 0, 1, 1, 1, 1],\n",
      " engine_genes=[EngineGene(engine_id=20, bits=[0, 0, 1, 0, 0, 1, 1], start_day=StartDay(bits=[1, 0, 0, 1, 1], start_day=19), team=Team(bits=[0, 0], team=0, kind='a')), EngineGene(engine_id=24, bits=[1, 1, 0, 0, 0, 1, 0], start_day=StartDay(bits=[0, 0, 0, 1, 0], start_day=2), team=Team(bits=[1, 1], team=3, kind='b')), EngineGene(engine_id=31, bits=[1, 0, 1, 0, 1, 1, 1], start_day=StartDay(bits=[1, 0, 1, 1, 1], start_day=23), team=Team(bits=[1, 0], team=2, kind='a')), EngineGene(engine_id=34, bits=[0, 0, 0, 0, 1, 1, 1], start_day=StartDay(bits=[0, 0, 1, 1, 1], start_day=7), team=Team(bits=[0, 0], team=0, kind='a')), EngineGene(engine_id=35, bits=[0, 1, 1, 0, 0, 1, 1], start_day=StartDay(bits=[1, 0, 0, 1, 1], start_day=19), team=Team(bits=[0, 1], team=1, kind='b')), EngineGene(engine_id=36, bits=[1, 0, 1, 1, 0, 1, 0], start_day=StartDay(bits=[1, 1, 0, 1, 0], start_day=26), team=Team(bits=[1, 0], team=2, kind='a')), EngineGene(engine_id=37, bits=[0, 1, 1, 1, 0, 0, 1], start_day=StartDay(bits=[1, 1, 0, 0, 1], start_day=25), team=Team(bits=[0, 1], team=1, kind='b')), EngineGene(engine_id=40, bits=[1, 1, 1, 0, 1, 1, 1], start_day=StartDay(bits=[1, 0, 1, 1, 1], start_day=23), team=Team(bits=[1, 1], team=3, kind='b')), EngineGene(engine_id=41, bits=[0, 1, 1, 0, 0, 1, 0], start_day=StartDay(bits=[1, 0, 0, 1, 0], start_day=18), team=Team(bits=[0, 1], team=1, kind='b')), EngineGene(engine_id=42, bits=[1, 0, 1, 0, 1, 0, 1], start_day=StartDay(bits=[1, 0, 1, 0, 1], start_day=21), team=Team(bits=[1, 0], team=2, kind='a')), EngineGene(engine_id=49, bits=[0, 0, 0, 0, 0, 1, 1], start_day=StartDay(bits=[0, 0, 0, 1, 1], start_day=3), team=Team(bits=[0, 0], team=0, kind='a')), EngineGene(engine_id=56, bits=[0, 0, 1, 0, 1, 0, 1], start_day=StartDay(bits=[1, 0, 1, 0, 1], start_day=21), team=Team(bits=[0, 0], team=0, kind='a')), EngineGene(engine_id=61, bits=[0, 1, 1, 0, 0, 1, 0], start_day=StartDay(bits=[1, 0, 0, 1, 0], start_day=18), team=Team(bits=[0, 1], team=1, kind='b')), EngineGene(engine_id=64, bits=[0, 1, 1, 0, 1, 1, 0], start_day=StartDay(bits=[1, 0, 1, 1, 0], start_day=22), team=Team(bits=[0, 1], team=1, kind='b')), EngineGene(engine_id=66, bits=[1, 0, 0, 0, 1, 0, 0], start_day=StartDay(bits=[0, 0, 1, 0, 0], start_day=4), team=Team(bits=[1, 0], team=2, kind='a')), EngineGene(engine_id=68, bits=[1, 1, 0, 1, 0, 0, 1], start_day=StartDay(bits=[0, 1, 0, 0, 1], start_day=9), team=Team(bits=[1, 1], team=3, kind='b')), EngineGene(engine_id=76, bits=[0, 0, 1, 0, 0, 0, 1], start_day=StartDay(bits=[1, 0, 0, 0, 1], start_day=17), team=Team(bits=[0, 0], team=0, kind='a')), EngineGene(engine_id=77, bits=[1, 1, 0, 0, 1, 0, 0], start_day=StartDay(bits=[0, 0, 1, 0, 0], start_day=4), team=Team(bits=[1, 1], team=3, kind='b')), EngineGene(engine_id=81, bits=[0, 1, 0, 0, 0, 1, 1], start_day=StartDay(bits=[0, 0, 0, 1, 1], start_day=3), team=Team(bits=[0, 1], team=1, kind='b')), EngineGene(engine_id=82, bits=[0, 0, 0, 1, 1, 0, 0], start_day=StartDay(bits=[0, 1, 1, 0, 0], start_day=12), team=Team(bits=[0, 0], team=0, kind='a')), EngineGene(engine_id=90, bits=[0, 1, 1, 0, 0, 0, 1], start_day=StartDay(bits=[1, 0, 0, 0, 1], start_day=17), team=Team(bits=[0, 1], team=1, kind='b')), EngineGene(engine_id=91, bits=[0, 1, 1, 0, 1, 0, 1], start_day=StartDay(bits=[1, 0, 1, 0, 1], start_day=21), team=Team(bits=[0, 1], team=1, kind='b')), EngineGene(engine_id=92, bits=[0, 0, 0, 0, 1, 0, 1], start_day=StartDay(bits=[0, 0, 1, 0, 1], start_day=5), team=Team(bits=[0, 0], team=0, kind='a')), EngineGene(engine_id=100, bits=[1, 1, 0, 1, 1, 1, 1], start_day=StartDay(bits=[0, 1, 1, 1, 1], start_day=15), team=Team(bits=[1, 1], team=3, kind='b'))],\n",
      " penalty=1123)\n",
      "Chromosome(bits=[0, 1, 0, 0, 1, 1, 0, 0, 0, 0, 0, 0, 0, 1, 1, 0, 1, 0, 0, 0, 0, 1, 1, 1, 0, 0, 0, 0, 0, 1, 1, 0, 1, 0, 1, 0, 0, 1, 0, 1, 1, 0, 0, 0, 1, 1, 0, 0, 0, 0, 0, 0, 1, 0, 1, 0, 1, 1, 0, 0, 1, 0, 1, 0, 0, 0, 0, 1, 0, 0, 1, 0, 1, 1, 0, 0, 0, 0, 1, 0, 1, 1, 1, 1, 0, 1, 1, 0, 0, 1, 1, 0, 1, 1, 0, 0, 1, 1, 0, 0, 1, 0, 1, 0, 0, 0, 1, 0, 1, 0, 1, 0, 0, 1, 0, 1, 0, 0, 0, 0, 0, 0, 0, 0, 1, 0, 1, 0, 0, 0, 1, 0, 0, 0, 0, 0, 0, 0, 1, 0, 1, 0, 0, 0, 0, 1, 1, 1, 0, 0, 0, 0, 1, 0, 1, 0, 0, 1, 0, 0, 0, 1, 1, 0, 1, 0, 1, 1],\n",
      " engine_genes=[EngineGene(engine_id=20, bits=[0, 1, 0, 0, 1, 1, 0], start_day=StartDay(bits=[0, 0, 1, 1, 0], start_day=6), team=Team(bits=[0, 1], team=1, kind='b')), EngineGene(engine_id=24, bits=[0, 0, 0, 0, 0, 0, 1], start_day=StartDay(bits=[0, 0, 0, 0, 1], start_day=1), team=Team(bits=[0, 0], team=0, kind='a')), EngineGene(engine_id=31, bits=[1, 0, 1, 0, 0, 0, 0], start_day=StartDay(bits=[1, 0, 0, 0, 0], start_day=16), team=Team(bits=[1, 0], team=2, kind='a')), EngineGene(engine_id=34, bits=[1, 1, 1, 0, 0, 0, 0], start_day=StartDay(bits=[1, 0, 0, 0, 0], start_day=16), team=Team(bits=[1, 1], team=3, kind='b')), EngineGene(engine_id=35, bits=[0, 1, 1, 0, 1, 0, 1], start_day=StartDay(bits=[1, 0, 1, 0, 1], start_day=21), team=Team(bits=[0, 1], team=1, kind='b')), EngineGene(engine_id=36, bits=[0, 0, 1, 0, 1, 1, 0], start_day=StartDay(bits=[1, 0, 1, 1, 0], start_day=22), team=Team(bits=[0, 0], team=0, kind='a')), EngineGene(engine_id=37, bits=[0, 0, 1, 1, 0, 0, 0], start_day=StartDay(bits=[1, 1, 0, 0, 0], start_day=24), team=Team(bits=[0, 0], team=0, kind='a')), EngineGene(engine_id=40, bits=[0, 0, 0, 1, 0, 1, 0], start_day=StartDay(bits=[0, 1, 0, 1, 0], start_day=10), team=Team(bits=[0, 0], team=0, kind='a')), EngineGene(engine_id=41, bits=[1, 1, 0, 0, 1, 0, 1], start_day=StartDay(bits=[0, 0, 1, 0, 1], start_day=5), team=Team(bits=[1, 1], team=3, kind='b')), EngineGene(engine_id=42, bits=[0, 0, 0, 0, 1, 0, 0], start_day=StartDay(bits=[0, 0, 1, 0, 0], start_day=4), team=Team(bits=[0, 0], team=0, kind='a')), EngineGene(engine_id=49, bits=[1, 0, 1, 1, 0, 0, 0], start_day=StartDay(bits=[1, 1, 0, 0, 0], start_day=24), team=Team(bits=[1, 0], team=2, kind='a')), EngineGene(engine_id=56, bits=[0, 1, 0, 1, 1, 1, 1], start_day=StartDay(bits=[0, 1, 1, 1, 1], start_day=15), team=Team(bits=[0, 1], team=1, kind='b')), EngineGene(engine_id=61, bits=[0, 1, 1, 0, 0, 1, 1], start_day=StartDay(bits=[1, 0, 0, 1, 1], start_day=19), team=Team(bits=[0, 1], team=1, kind='b')), EngineGene(engine_id=64, bits=[0, 1, 1, 0, 0, 1, 1], start_day=StartDay(bits=[1, 0, 0, 1, 1], start_day=19), team=Team(bits=[0, 1], team=1, kind='b')), EngineGene(engine_id=66, bits=[0, 0, 1, 0, 1, 0, 0], start_day=StartDay(bits=[1, 0, 1, 0, 0], start_day=20), team=Team(bits=[0, 0], team=0, kind='a')), EngineGene(engine_id=68, bits=[0, 1, 0, 1, 0, 1, 0], start_day=StartDay(bits=[0, 1, 0, 1, 0], start_day=10), team=Team(bits=[0, 1], team=1, kind='b')), EngineGene(engine_id=76, bits=[0, 1, 0, 1, 0, 0, 0], start_day=StartDay(bits=[0, 1, 0, 0, 0], start_day=8), team=Team(bits=[0, 1], team=1, kind='b')), EngineGene(engine_id=77, bits=[0, 0, 0, 0, 0, 1, 0], start_day=StartDay(bits=[0, 0, 0, 1, 0], start_day=2), team=Team(bits=[0, 0], team=0, kind='a')), EngineGene(engine_id=81, bits=[1, 0, 0, 0, 1, 0, 0], start_day=StartDay(bits=[0, 0, 1, 0, 0], start_day=4), team=Team(bits=[1, 0], team=2, kind='a')), EngineGene(engine_id=82, bits=[0, 0, 0, 0, 0, 1, 0], start_day=StartDay(bits=[0, 0, 0, 1, 0], start_day=2), team=Team(bits=[0, 0], team=0, kind='a')), EngineGene(engine_id=90, bits=[1, 0, 0, 0, 0, 1, 1], start_day=StartDay(bits=[0, 0, 0, 1, 1], start_day=3), team=Team(bits=[1, 0], team=2, kind='a')), EngineGene(engine_id=91, bits=[1, 0, 0, 0, 0, 1, 0], start_day=StartDay(bits=[0, 0, 0, 1, 0], start_day=2), team=Team(bits=[1, 0], team=2, kind='a')), EngineGene(engine_id=92, bits=[1, 0, 0, 1, 0, 0, 0], start_day=StartDay(bits=[0, 1, 0, 0, 0], start_day=8), team=Team(bits=[1, 0], team=2, kind='a')), EngineGene(engine_id=100, bits=[1, 1, 0, 1, 0, 1, 1], start_day=StartDay(bits=[0, 1, 0, 1, 1], start_day=11), team=Team(bits=[1, 1], team=3, kind='b'))],\n",
      " penalty=799)\n",
      "Chromosome(bits=[0, 1, 1, 0, 0, 1, 0, 0, 1, 1, 1, 0, 1, 0, 0, 0, 0, 0, 0, 1, 0, 1, 0, 1, 0, 0, 1, 1, 0, 0, 1, 1, 0, 1, 1, 0, 0, 0, 1, 0, 1, 0, 1, 0, 1, 0, 0, 0, 0, 1, 0, 0, 1, 1, 1, 1, 1, 0, 1, 0, 0, 0, 0, 1, 0, 1, 0, 0, 1, 0, 1, 1, 0, 0, 0, 1, 1, 0, 1, 0, 0, 0, 0, 1, 0, 1, 1, 0, 0, 1, 0, 1, 1, 0, 1, 0, 1, 0, 0, 0, 1, 1, 0, 1, 1, 1, 0, 1, 0, 0, 1, 0, 1, 0, 1, 0, 0, 1, 1, 1, 1, 1, 0, 0, 0, 0, 1, 0, 0, 1, 0, 1, 1, 1, 1, 1, 0, 0, 0, 0, 0, 0, 0, 1, 0, 1, 1, 0, 1, 0, 1, 0, 0, 0, 1, 1, 0, 1, 0, 1, 1, 0, 1, 0, 1, 1, 1, 1],\n",
      " engine_genes=[EngineGene(engine_id=20, bits=[0, 1, 1, 0, 0, 1, 0], start_day=StartDay(bits=[1, 0, 0, 1, 0], start_day=18), team=Team(bits=[0, 1], team=1, kind='b')), EngineGene(engine_id=24, bits=[0, 1, 1, 1, 0, 1, 0], start_day=StartDay(bits=[1, 1, 0, 1, 0], start_day=26), team=Team(bits=[0, 1], team=1, kind='b')), EngineGene(engine_id=31, bits=[0, 0, 0, 0, 0, 1, 0], start_day=StartDay(bits=[0, 0, 0, 1, 0], start_day=2), team=Team(bits=[0, 0], team=0, kind='a')), EngineGene(engine_id=34, bits=[1, 0, 1, 0, 0, 1, 1], start_day=StartDay(bits=[1, 0, 0, 1, 1], start_day=19), team=Team(bits=[1, 0], team=2, kind='a')), EngineGene(engine_id=35, bits=[0, 0, 1, 1, 0, 1, 1], start_day=StartDay(bits=[1, 1, 0, 1, 1], start_day=27), team=Team(bits=[0, 0], team=0, kind='a')), EngineGene(engine_id=36, bits=[0, 0, 0, 1, 0, 1, 0], start_day=StartDay(bits=[0, 1, 0, 1, 0], start_day=10), team=Team(bits=[0, 0], team=0, kind='a')), EngineGene(engine_id=37, bits=[1, 0, 1, 0, 0, 0, 0], start_day=StartDay(bits=[1, 0, 0, 0, 0], start_day=16), team=Team(bits=[1, 0], team=2, kind='a')), EngineGene(engine_id=40, bits=[1, 0, 0, 1, 1, 1, 1], start_day=StartDay(bits=[0, 1, 1, 1, 1], start_day=15), team=Team(bits=[1, 0], team=2, kind='a')), EngineGene(engine_id=41, bits=[1, 0, 1, 0, 0, 0, 0], start_day=StartDay(bits=[1, 0, 0, 0, 0], start_day=16), team=Team(bits=[1, 0], team=2, kind='a')), EngineGene(engine_id=42, bits=[1, 0, 1, 0, 0, 1, 0], start_day=StartDay(bits=[1, 0, 0, 1, 0], start_day=18), team=Team(bits=[1, 0], team=2, kind='a')), EngineGene(engine_id=49, bits=[1, 1, 0, 0, 0, 1, 1], start_day=StartDay(bits=[0, 0, 0, 1, 1], start_day=3), team=Team(bits=[1, 1], team=3, kind='b')), EngineGene(engine_id=56, bits=[0, 1, 0, 0, 0, 0, 1], start_day=StartDay(bits=[0, 0, 0, 0, 1], start_day=1), team=Team(bits=[0, 1], team=1, kind='b')), EngineGene(engine_id=61, bits=[0, 1, 1, 0, 0, 1, 0], start_day=StartDay(bits=[1, 0, 0, 1, 0], start_day=18), team=Team(bits=[0, 1], team=1, kind='b')), EngineGene(engine_id=64, bits=[1, 1, 0, 1, 0, 1, 0], start_day=StartDay(bits=[0, 1, 0, 1, 0], start_day=10), team=Team(bits=[1, 1], team=3, kind='b')), EngineGene(engine_id=66, bits=[0, 0, 1, 1, 0, 1, 1], start_day=StartDay(bits=[1, 1, 0, 1, 1], start_day=27), team=Team(bits=[0, 0], team=0, kind='a')), EngineGene(engine_id=68, bits=[1, 0, 1, 0, 0, 1, 0], start_day=StartDay(bits=[1, 0, 0, 1, 0], start_day=18), team=Team(bits=[1, 0], team=2, kind='a')), EngineGene(engine_id=76, bits=[1, 0, 1, 0, 0, 1, 1], start_day=StartDay(bits=[1, 0, 0, 1, 1], start_day=19), team=Team(bits=[1, 0], team=2, kind='a')), EngineGene(engine_id=77, bits=[1, 1, 1, 0, 0, 0, 0], start_day=StartDay(bits=[1, 0, 0, 0, 0], start_day=16), team=Team(bits=[1, 1], team=3, kind='b')), EngineGene(engine_id=81, bits=[1, 0, 0, 1, 0, 1, 1], start_day=StartDay(bits=[0, 1, 0, 1, 1], start_day=11), team=Team(bits=[1, 0], team=2, kind='a')), EngineGene(engine_id=82, bits=[1, 1, 1, 0, 0, 0, 0], start_day=StartDay(bits=[1, 0, 0, 0, 0], start_day=16), team=Team(bits=[1, 1], team=3, kind='b')), EngineGene(engine_id=90, bits=[0, 0, 0, 1, 0, 1, 1], start_day=StartDay(bits=[0, 1, 0, 1, 1], start_day=11), team=Team(bits=[0, 0], team=0, kind='a')), EngineGene(engine_id=91, bits=[0, 1, 0, 1, 0, 0, 0], start_day=StartDay(bits=[0, 1, 0, 0, 0], start_day=8), team=Team(bits=[0, 1], team=1, kind='b')), EngineGene(engine_id=92, bits=[1, 1, 0, 1, 0, 1, 1], start_day=StartDay(bits=[0, 1, 0, 1, 1], start_day=11), team=Team(bits=[1, 1], team=3, kind='b')), EngineGene(engine_id=100, bits=[0, 1, 0, 1, 1, 1, 1], start_day=StartDay(bits=[0, 1, 1, 1, 1], start_day=15), team=Team(bits=[0, 1], team=1, kind='b'))],\n",
      " penalty=1717)\n",
      "Chromosome(bits=[0, 0, 0, 1, 0, 0, 1, 1, 1, 0, 1, 1, 1, 0, 1, 0, 1, 0, 1, 0, 1, 0, 1, 0, 1, 0, 1, 1, 0, 0, 0, 0, 1, 0, 0, 1, 1, 1, 1, 0, 0, 1, 0, 0, 1, 0, 1, 0, 0, 1, 1, 0, 1, 0, 0, 1, 1, 0, 0, 1, 1, 0, 0, 1, 1, 1, 0, 1, 0, 0, 0, 0, 0, 1, 1, 0, 0, 0, 0, 0, 0, 0, 1, 0, 0, 1, 0, 0, 0, 1, 0, 1, 1, 0, 0, 0, 1, 0, 0, 0, 0, 1, 0, 0, 0, 0, 1, 0, 0, 1, 0, 0, 0, 0, 0, 0, 1, 1, 1, 1, 0, 0, 0, 0, 1, 0, 0, 0, 0, 1, 0, 1, 1, 1, 0, 0, 1, 0, 1, 1, 1, 1, 0, 1, 1, 1, 0, 1, 0, 0, 0, 1, 0, 1, 0, 0, 0, 0, 0, 1, 0, 0, 1, 0, 1, 0, 0, 0],\n",
      " engine_genes=[EngineGene(engine_id=20, bits=[0, 0, 0, 1, 0, 0, 1], start_day=StartDay(bits=[0, 1, 0, 0, 1], start_day=9), team=Team(bits=[0, 0], team=0, kind='a')), EngineGene(engine_id=24, bits=[1, 1, 0, 1, 1, 1, 0], start_day=StartDay(bits=[0, 1, 1, 1, 0], start_day=14), team=Team(bits=[1, 1], team=3, kind='b')), EngineGene(engine_id=31, bits=[1, 0, 1, 0, 1, 0, 1], start_day=StartDay(bits=[1, 0, 1, 0, 1], start_day=21), team=Team(bits=[1, 0], team=2, kind='a')), EngineGene(engine_id=34, bits=[0, 1, 0, 1, 0, 1, 1], start_day=StartDay(bits=[0, 1, 0, 1, 1], start_day=11), team=Team(bits=[0, 1], team=1, kind='b')), EngineGene(engine_id=35, bits=[0, 0, 0, 0, 1, 0, 0], start_day=StartDay(bits=[0, 0, 1, 0, 0], start_day=4), team=Team(bits=[0, 0], team=0, kind='a')), EngineGene(engine_id=36, bits=[1, 1, 1, 1, 0, 0, 1], start_day=StartDay(bits=[1, 1, 0, 0, 1], start_day=25), team=Team(bits=[1, 1], team=3, kind='b')), EngineGene(engine_id=37, bits=[0, 0, 1, 0, 1, 0, 0], start_day=StartDay(bits=[1, 0, 1, 0, 0], start_day=20), team=Team(bits=[0, 0], team=0, kind='a')), EngineGene(engine_id=40, bits=[1, 1, 0, 1, 0, 0, 1], start_day=StartDay(bits=[0, 1, 0, 0, 1], start_day=9), team=Team(bits=[1, 1], team=3, kind='b')), EngineGene(engine_id=41, bits=[1, 0, 0, 1, 1, 0, 0], start_day=StartDay(bits=[0, 1, 1, 0, 0], start_day=12), team=Team(bits=[1, 0], team=2, kind='a')), EngineGene(engine_id=42, bits=[1, 1, 1, 0, 1, 0, 0], start_day=StartDay(bits=[1, 0, 1, 0, 0], start_day=20), team=Team(bits=[1, 1], team=3, kind='b')), EngineGene(engine_id=49, bits=[0, 0, 0, 1, 1, 0, 0], start_day=StartDay(bits=[0, 1, 1, 0, 0], start_day=12), team=Team(bits=[0, 0], team=0, kind='a')), EngineGene(engine_id=56, bits=[0, 0, 0, 0, 0, 1, 0], start_day=StartDay(bits=[0, 0, 0, 1, 0], start_day=2), team=Team(bits=[0, 0], team=0, kind='a')), EngineGene(engine_id=61, bits=[0, 1, 0, 0, 0, 1, 0], start_day=StartDay(bits=[0, 0, 0, 1, 0], start_day=2), team=Team(bits=[0, 1], team=1, kind='b')), EngineGene(engine_id=64, bits=[1, 1, 0, 0, 0, 1, 0], start_day=StartDay(bits=[0, 0, 0, 1, 0], start_day=2), team=Team(bits=[1, 1], team=3, kind='b')), EngineGene(engine_id=66, bits=[0, 0, 0, 1, 0, 0, 0], start_day=StartDay(bits=[0, 1, 0, 0, 0], start_day=8), team=Team(bits=[0, 0], team=0, kind='a')), EngineGene(engine_id=68, bits=[0, 1, 0, 0, 1, 0, 0], start_day=StartDay(bits=[0, 0, 1, 0, 0], start_day=4), team=Team(bits=[0, 1], team=1, kind='b')), EngineGene(engine_id=76, bits=[0, 0, 0, 0, 1, 1, 1], start_day=StartDay(bits=[0, 0, 1, 1, 1], start_day=7), team=Team(bits=[0, 0], team=0, kind='a')), EngineGene(engine_id=77, bits=[1, 0, 0, 0, 0, 1, 0], start_day=StartDay(bits=[0, 0, 0, 1, 0], start_day=2), team=Team(bits=[1, 0], team=2, kind='a')), EngineGene(engine_id=81, bits=[0, 0, 0, 1, 0, 1, 1], start_day=StartDay(bits=[0, 1, 0, 1, 1], start_day=11), team=Team(bits=[0, 0], team=0, kind='a')), EngineGene(engine_id=82, bits=[1, 0, 0, 1, 0, 1, 1], start_day=StartDay(bits=[0, 1, 0, 1, 1], start_day=11), team=Team(bits=[1, 0], team=2, kind='a')), EngineGene(engine_id=90, bits=[1, 1, 0, 1, 1, 1, 0], start_day=StartDay(bits=[0, 1, 1, 1, 0], start_day=14), team=Team(bits=[1, 1], team=3, kind='b')), EngineGene(engine_id=91, bits=[1, 0, 0, 0, 1, 0, 1], start_day=StartDay(bits=[0, 0, 1, 0, 1], start_day=5), team=Team(bits=[1, 0], team=2, kind='a')), EngineGene(engine_id=92, bits=[0, 0, 0, 0, 0, 1, 0], start_day=StartDay(bits=[0, 0, 0, 1, 0], start_day=2), team=Team(bits=[0, 0], team=0, kind='a')), EngineGene(engine_id=100, bits=[0, 1, 0, 1, 0, 0, 0], start_day=StartDay(bits=[0, 1, 0, 0, 0], start_day=8), team=Team(bits=[0, 1], team=1, kind='b'))],\n",
      " penalty=446)\n",
      "Chromosome(bits=[1, 0, 1, 0, 0, 0, 0, 1, 1, 0, 0, 1, 1, 0, 1, 0, 0, 0, 1, 0, 0, 0, 1, 0, 1, 1, 1, 1, 0, 1, 0, 1, 1, 0, 0, 1, 1, 0, 0, 1, 0, 1, 1, 0, 0, 1, 0, 0, 0, 1, 0, 1, 0, 0, 0, 0, 0, 1, 0, 0, 0, 1, 1, 0, 0, 1, 0, 1, 0, 0, 0, 1, 0, 0, 1, 0, 1, 1, 0, 0, 1, 1, 1, 1, 0, 1, 0, 1, 1, 0, 1, 1, 1, 1, 1, 0, 0, 0, 0, 1, 0, 0, 1, 0, 0, 0, 0, 1, 0, 1, 0, 0, 0, 0, 0, 0, 1, 1, 1, 0, 0, 0, 1, 0, 1, 1, 1, 0, 0, 1, 0, 0, 0, 1, 1, 0, 1, 0, 1, 0, 1, 0, 0, 0, 0, 0, 1, 0, 0, 0, 1, 1, 0, 0, 1, 1, 0, 1, 0, 1, 1, 1, 0, 0, 0, 1, 1, 1],\n",
      " engine_genes=[EngineGene(engine_id=20, bits=[1, 0, 1, 0, 0, 0, 0], start_day=StartDay(bits=[1, 0, 0, 0, 0], start_day=16), team=Team(bits=[1, 0], team=2, kind='a')), EngineGene(engine_id=24, bits=[1, 1, 0, 0, 1, 1, 0], start_day=StartDay(bits=[0, 0, 1, 1, 0], start_day=6), team=Team(bits=[1, 1], team=3, kind='b')), EngineGene(engine_id=31, bits=[1, 0, 0, 0, 1, 0, 0], start_day=StartDay(bits=[0, 0, 1, 0, 0], start_day=4), team=Team(bits=[1, 0], team=2, kind='a')), EngineGene(engine_id=34, bits=[0, 1, 0, 1, 1, 1, 1], start_day=StartDay(bits=[0, 1, 1, 1, 1], start_day=15), team=Team(bits=[0, 1], team=1, kind='b')), EngineGene(engine_id=35, bits=[0, 1, 0, 1, 1, 0, 0], start_day=StartDay(bits=[0, 1, 1, 0, 0], start_day=12), team=Team(bits=[0, 1], team=1, kind='b')), EngineGene(engine_id=36, bits=[1, 1, 0, 0, 1, 0, 1], start_day=StartDay(bits=[0, 0, 1, 0, 1], start_day=5), team=Team(bits=[1, 1], team=3, kind='b')), EngineGene(engine_id=37, bits=[1, 0, 0, 1, 0, 0, 0], start_day=StartDay(bits=[0, 1, 0, 0, 0], start_day=8), team=Team(bits=[1, 0], team=2, kind='a')), EngineGene(engine_id=40, bits=[1, 0, 1, 0, 0, 0, 0], start_day=StartDay(bits=[1, 0, 0, 0, 0], start_day=16), team=Team(bits=[1, 0], team=2, kind='a')), EngineGene(engine_id=41, bits=[0, 1, 0, 0, 0, 1, 1], start_day=StartDay(bits=[0, 0, 0, 1, 1], start_day=3), team=Team(bits=[0, 1], team=1, kind='b')), EngineGene(engine_id=42, bits=[0, 0, 1, 0, 1, 0, 0], start_day=StartDay(bits=[1, 0, 1, 0, 0], start_day=20), team=Team(bits=[0, 0], team=0, kind='a')), EngineGene(engine_id=49, bits=[0, 1, 0, 0, 1, 0, 1], start_day=StartDay(bits=[0, 0, 1, 0, 1], start_day=5), team=Team(bits=[0, 1], team=1, kind='b')), EngineGene(engine_id=56, bits=[1, 0, 0, 1, 1, 1, 1], start_day=StartDay(bits=[0, 1, 1, 1, 1], start_day=15), team=Team(bits=[1, 0], team=2, kind='a')), EngineGene(engine_id=61, bits=[0, 1, 0, 1, 1, 0, 1], start_day=StartDay(bits=[0, 1, 1, 0, 1], start_day=13), team=Team(bits=[0, 1], team=1, kind='b')), EngineGene(engine_id=64, bits=[1, 1, 1, 1, 0, 0, 0], start_day=StartDay(bits=[1, 1, 0, 0, 0], start_day=24), team=Team(bits=[1, 1], team=3, kind='b')), EngineGene(engine_id=66, bits=[0, 1, 0, 0, 1, 0, 0], start_day=StartDay(bits=[0, 0, 1, 0, 0], start_day=4), team=Team(bits=[0, 1], team=1, kind='b')), EngineGene(engine_id=68, bits=[0, 0, 1, 0, 1, 0, 0], start_day=StartDay(bits=[1, 0, 1, 0, 0], start_day=20), team=Team(bits=[0, 0], team=0, kind='a')), EngineGene(engine_id=76, bits=[0, 0, 0, 0, 1, 1, 1], start_day=StartDay(bits=[0, 0, 1, 1, 1], start_day=7), team=Team(bits=[0, 0], team=0, kind='a')), EngineGene(engine_id=77, bits=[0, 0, 0, 1, 0, 1, 1], start_day=StartDay(bits=[0, 1, 0, 1, 1], start_day=11), team=Team(bits=[0, 0], team=0, kind='a')), EngineGene(engine_id=81, bits=[1, 0, 0, 1, 0, 0, 0], start_day=StartDay(bits=[0, 1, 0, 0, 0], start_day=8), team=Team(bits=[1, 0], team=2, kind='a')), EngineGene(engine_id=82, bits=[1, 1, 0, 1, 0, 1, 0], start_day=StartDay(bits=[0, 1, 0, 1, 0], start_day=10), team=Team(bits=[1, 1], team=3, kind='b')), EngineGene(engine_id=90, bits=[1, 0, 0, 0, 0, 0, 1], start_day=StartDay(bits=[0, 0, 0, 0, 1], start_day=1), team=Team(bits=[1, 0], team=2, kind='a')), EngineGene(engine_id=91, bits=[0, 0, 0, 1, 1, 0, 0], start_day=StartDay(bits=[0, 1, 1, 0, 0], start_day=12), team=Team(bits=[0, 0], team=0, kind='a')), EngineGene(engine_id=92, bits=[1, 1, 0, 1, 0, 1, 1], start_day=StartDay(bits=[0, 1, 0, 1, 1], start_day=11), team=Team(bits=[1, 1], team=3, kind='b')), EngineGene(engine_id=100, bits=[1, 0, 0, 0, 1, 1, 1], start_day=StartDay(bits=[0, 0, 1, 1, 1], start_day=7), team=Team(bits=[1, 0], team=2, kind='a'))],\n",
      " penalty=721)\n",
      "Chromosome(bits=[0, 1, 0, 0, 1, 1, 1, 0, 0, 0, 0, 0, 0, 1, 1, 0, 0, 1, 0, 1, 0, 1, 1, 0, 0, 1, 0, 1, 1, 1, 0, 1, 1, 1, 0, 0, 0, 0, 0, 1, 0, 1, 0, 0, 0, 1, 0, 1, 0, 1, 0, 1, 0, 1, 0, 0, 0, 0, 0, 0, 1, 0, 1, 1, 0, 1, 0, 0, 0, 0, 1, 1, 0, 0, 0, 1, 0, 0, 0, 0, 0, 0, 1, 0, 1, 0, 0, 1, 0, 0, 1, 1, 0, 0, 1, 0, 1, 1, 0, 1, 0, 1, 1, 1, 1, 1, 1, 1, 0, 1, 0, 0, 1, 1, 0, 0, 1, 0, 1, 1, 1, 1, 1, 0, 1, 0, 0, 0, 0, 0, 1, 1, 0, 1, 0, 0, 1, 1, 1, 1, 1, 0, 0, 1, 1, 1, 0, 1, 1, 0, 1, 1, 1, 0, 0, 1, 0, 1, 1, 0, 1, 1, 0, 0, 1, 1, 1, 0],\n",
      " engine_genes=[EngineGene(engine_id=20, bits=[0, 1, 0, 0, 1, 1, 1], start_day=StartDay(bits=[0, 0, 1, 1, 1], start_day=7), team=Team(bits=[0, 1], team=1, kind='b')), EngineGene(engine_id=24, bits=[0, 0, 0, 0, 0, 0, 1], start_day=StartDay(bits=[0, 0, 0, 0, 1], start_day=1), team=Team(bits=[0, 0], team=0, kind='a')), EngineGene(engine_id=31, bits=[1, 0, 0, 1, 0, 1, 0], start_day=StartDay(bits=[0, 1, 0, 1, 0], start_day=10), team=Team(bits=[1, 0], team=2, kind='a')), EngineGene(engine_id=34, bits=[1, 1, 0, 0, 1, 0, 1], start_day=StartDay(bits=[0, 0, 1, 0, 1], start_day=5), team=Team(bits=[1, 1], team=3, kind='b')), EngineGene(engine_id=35, bits=[1, 1, 0, 1, 1, 1, 0], start_day=StartDay(bits=[0, 1, 1, 1, 0], start_day=14), team=Team(bits=[1, 1], team=3, kind='b')), EngineGene(engine_id=36, bits=[0, 0, 0, 0, 1, 0, 1], start_day=StartDay(bits=[0, 0, 1, 0, 1], start_day=5), team=Team(bits=[0, 0], team=0, kind='a')), EngineGene(engine_id=37, bits=[0, 0, 0, 1, 0, 1, 0], start_day=StartDay(bits=[0, 1, 0, 1, 0], start_day=10), team=Team(bits=[0, 0], team=0, kind='a')), EngineGene(engine_id=40, bits=[1, 0, 1, 0, 1, 0, 0], start_day=StartDay(bits=[1, 0, 1, 0, 0], start_day=20), team=Team(bits=[1, 0], team=2, kind='a')), EngineGene(engine_id=41, bits=[0, 0, 0, 0, 1, 0, 1], start_day=StartDay(bits=[0, 0, 1, 0, 1], start_day=5), team=Team(bits=[0, 0], team=0, kind='a')), EngineGene(engine_id=42, bits=[1, 0, 1, 0, 0, 0, 0], start_day=StartDay(bits=[1, 0, 0, 0, 0], start_day=16), team=Team(bits=[1, 0], team=2, kind='a')), EngineGene(engine_id=49, bits=[1, 1, 0, 0, 0, 1, 0], start_day=StartDay(bits=[0, 0, 0, 1, 0], start_day=2), team=Team(bits=[1, 1], team=3, kind='b')), EngineGene(engine_id=56, bits=[0, 0, 0, 0, 0, 1, 0], start_day=StartDay(bits=[0, 0, 0, 1, 0], start_day=2), team=Team(bits=[0, 0], team=0, kind='a')), EngineGene(engine_id=61, bits=[1, 0, 0, 1, 0, 0, 1], start_day=StartDay(bits=[0, 1, 0, 0, 1], start_day=9), team=Team(bits=[1, 0], team=2, kind='a')), EngineGene(engine_id=64, bits=[1, 0, 0, 1, 0, 1, 1], start_day=StartDay(bits=[0, 1, 0, 1, 1], start_day=11), team=Team(bits=[1, 0], team=2, kind='a')), EngineGene(engine_id=66, bits=[0, 1, 0, 1, 1, 1, 1], start_day=StartDay(bits=[0, 1, 1, 1, 1], start_day=15), team=Team(bits=[0, 1], team=1, kind='b')), EngineGene(engine_id=68, bits=[1, 1, 1, 0, 1, 0, 0], start_day=StartDay(bits=[1, 0, 1, 0, 0], start_day=20), team=Team(bits=[1, 1], team=3, kind='b')), EngineGene(engine_id=76, bits=[1, 1, 0, 0, 1, 0, 1], start_day=StartDay(bits=[0, 0, 1, 0, 1], start_day=5), team=Team(bits=[1, 1], team=3, kind='b')), EngineGene(engine_id=77, bits=[1, 1, 1, 1, 0, 1, 0], start_day=StartDay(bits=[1, 1, 0, 1, 0], start_day=26), team=Team(bits=[1, 1], team=3, kind='b')), EngineGene(engine_id=81, bits=[0, 0, 0, 0, 1, 1, 0], start_day=StartDay(bits=[0, 0, 1, 1, 0], start_day=6), team=Team(bits=[0, 0], team=0, kind='a')), EngineGene(engine_id=82, bits=[1, 0, 0, 1, 1, 1, 1], start_day=StartDay(bits=[0, 1, 1, 1, 1], start_day=15), team=Team(bits=[1, 0], team=2, kind='a')), EngineGene(engine_id=90, bits=[1, 0, 0, 1, 1, 1, 0], start_day=StartDay(bits=[0, 1, 1, 1, 0], start_day=14), team=Team(bits=[1, 0], team=2, kind='a')), EngineGene(engine_id=91, bits=[1, 1, 0, 1, 1, 1, 0], start_day=StartDay(bits=[0, 1, 1, 1, 0], start_day=14), team=Team(bits=[1, 1], team=3, kind='b')), EngineGene(engine_id=92, bits=[0, 1, 0, 1, 1, 0, 1], start_day=StartDay(bits=[0, 1, 1, 0, 1], start_day=13), team=Team(bits=[0, 1], team=1, kind='b')), EngineGene(engine_id=100, bits=[1, 0, 0, 1, 1, 1, 0], start_day=StartDay(bits=[0, 1, 1, 1, 0], start_day=14), team=Team(bits=[1, 0], team=2, kind='a'))],\n",
      " penalty=451)\n",
      "Chromosome(bits=[1, 0, 1, 1, 0, 0, 0, 0, 0, 1, 0, 1, 0, 0, 1, 1, 0, 0, 0, 1, 1, 0, 1, 0, 0, 0, 0, 1, 0, 0, 0, 0, 1, 0, 1, 0, 1, 0, 1, 0, 1, 1, 1, 0, 0, 1, 0, 0, 0, 0, 1, 0, 0, 0, 0, 1, 1, 1, 1, 0, 1, 1, 1, 0, 0, 1, 1, 0, 0, 1, 1, 1, 0, 1, 1, 0, 0, 0, 1, 0, 0, 1, 0, 1, 0, 1, 1, 0, 0, 0, 0, 0, 1, 1, 0, 1, 1, 1, 1, 1, 0, 0, 1, 0, 1, 1, 1, 1, 1, 0, 1, 0, 0, 0, 1, 0, 0, 1, 1, 0, 1, 1, 0, 0, 1, 1, 0, 1, 1, 0, 0, 1, 0, 0, 0, 0, 1, 0, 0, 0, 1, 1, 0, 1, 0, 1, 1, 0, 0, 0, 1, 1, 1, 1, 0, 0, 0, 0, 1, 1, 1, 1, 0, 0, 1, 0, 0, 0],\n",
      " engine_genes=[EngineGene(engine_id=20, bits=[1, 0, 1, 1, 0, 0, 0], start_day=StartDay(bits=[1, 1, 0, 0, 0], start_day=24), team=Team(bits=[1, 0], team=2, kind='a')), EngineGene(engine_id=24, bits=[0, 0, 1, 0, 1, 0, 0], start_day=StartDay(bits=[1, 0, 1, 0, 0], start_day=20), team=Team(bits=[0, 0], team=0, kind='a')), EngineGene(engine_id=31, bits=[1, 1, 0, 0, 0, 1, 1], start_day=StartDay(bits=[0, 0, 0, 1, 1], start_day=3), team=Team(bits=[1, 1], team=3, kind='b')), EngineGene(engine_id=34, bits=[0, 1, 0, 0, 0, 0, 1], start_day=StartDay(bits=[0, 0, 0, 0, 1], start_day=1), team=Team(bits=[0, 1], team=1, kind='b')), EngineGene(engine_id=35, bits=[0, 0, 0, 0, 1, 0, 1], start_day=StartDay(bits=[0, 0, 1, 0, 1], start_day=5), team=Team(bits=[0, 0], team=0, kind='a')), EngineGene(engine_id=36, bits=[0, 1, 0, 1, 0, 1, 1], start_day=StartDay(bits=[0, 1, 0, 1, 1], start_day=11), team=Team(bits=[0, 1], team=1, kind='b')), EngineGene(engine_id=37, bits=[1, 0, 0, 1, 0, 0, 0], start_day=StartDay(bits=[0, 1, 0, 0, 0], start_day=8), team=Team(bits=[1, 0], team=2, kind='a')), EngineGene(engine_id=40, bits=[0, 1, 0, 0, 0, 0, 1], start_day=StartDay(bits=[0, 0, 0, 0, 1], start_day=1), team=Team(bits=[0, 1], team=1, kind='b')), EngineGene(engine_id=41, bits=[1, 1, 1, 0, 1, 1, 1], start_day=StartDay(bits=[1, 0, 1, 1, 1], start_day=23), team=Team(bits=[1, 1], team=3, kind='b')), EngineGene(engine_id=42, bits=[0, 0, 1, 1, 0, 0, 1], start_day=StartDay(bits=[1, 1, 0, 0, 1], start_day=25), team=Team(bits=[0, 0], team=0, kind='a')), EngineGene(engine_id=49, bits=[1, 1, 0, 1, 1, 0, 0], start_day=StartDay(bits=[0, 1, 1, 0, 0], start_day=12), team=Team(bits=[1, 1], team=3, kind='b')), EngineGene(engine_id=56, bits=[0, 1, 0, 0, 1, 0, 1], start_day=StartDay(bits=[0, 0, 1, 0, 1], start_day=5), team=Team(bits=[0, 1], team=1, kind='b')), EngineGene(engine_id=61, bits=[0, 1, 1, 0, 0, 0, 0], start_day=StartDay(bits=[1, 0, 0, 0, 0], start_day=16), team=Team(bits=[0, 1], team=1, kind='b')), EngineGene(engine_id=64, bits=[0, 1, 1, 0, 1, 1, 1], start_day=StartDay(bits=[1, 0, 1, 1, 1], start_day=23), team=Team(bits=[0, 1], team=1, kind='b')), EngineGene(engine_id=66, bits=[1, 1, 0, 0, 1, 0, 1], start_day=StartDay(bits=[0, 0, 1, 0, 1], start_day=5), team=Team(bits=[1, 1], team=3, kind='b')), EngineGene(engine_id=68, bits=[1, 1, 1, 1, 0, 1, 0], start_day=StartDay(bits=[1, 1, 0, 1, 0], start_day=26), team=Team(bits=[1, 1], team=3, kind='b')), EngineGene(engine_id=76, bits=[0, 0, 1, 0, 0, 1, 1], start_day=StartDay(bits=[1, 0, 0, 1, 1], start_day=19), team=Team(bits=[0, 0], team=0, kind='a')), EngineGene(engine_id=77, bits=[0, 1, 1, 0, 0, 1, 1], start_day=StartDay(bits=[1, 0, 0, 1, 1], start_day=19), team=Team(bits=[0, 1], team=1, kind='b')), EngineGene(engine_id=81, bits=[0, 1, 1, 0, 0, 1, 0], start_day=StartDay(bits=[1, 0, 0, 1, 0], start_day=18), team=Team(bits=[0, 1], team=1, kind='b')), EngineGene(engine_id=82, bits=[0, 0, 0, 1, 0, 0, 0], start_day=StartDay(bits=[0, 1, 0, 0, 0], start_day=8), team=Team(bits=[0, 0], team=0, kind='a')), EngineGene(engine_id=90, bits=[1, 1, 0, 1, 0, 1, 1], start_day=StartDay(bits=[0, 1, 0, 1, 1], start_day=11), team=Team(bits=[1, 1], team=3, kind='b')), EngineGene(engine_id=91, bits=[0, 0, 0, 1, 1, 1, 1], start_day=StartDay(bits=[0, 1, 1, 1, 1], start_day=15), team=Team(bits=[0, 0], team=0, kind='a')), EngineGene(engine_id=92, bits=[0, 0, 0, 0, 1, 1, 1], start_day=StartDay(bits=[0, 0, 1, 1, 1], start_day=7), team=Team(bits=[0, 0], team=0, kind='a')), EngineGene(engine_id=100, bits=[1, 0, 0, 1, 0, 0, 0], start_day=StartDay(bits=[0, 1, 0, 0, 0], start_day=8), team=Team(bits=[1, 0], team=2, kind='a'))],\n",
      " penalty=1250)\n",
      "Chromosome(bits=[1, 0, 0, 1, 1, 1, 1, 1, 1, 0, 0, 0, 1, 0, 1, 0, 0, 0, 0, 0, 1, 1, 1, 1, 0, 0, 0, 0, 0, 0, 0, 1, 1, 0, 1, 1, 0, 1, 1, 0, 1, 0, 1, 0, 0, 0, 0, 1, 1, 0, 1, 0, 0, 1, 1, 0, 1, 1, 1, 0, 0, 0, 1, 1, 0, 1, 0, 0, 0, 1, 1, 0, 0, 1, 1, 0, 0, 0, 0, 0, 0, 1, 1, 1, 1, 0, 1, 0, 1, 0, 1, 0, 1, 0, 0, 1, 0, 1, 1, 0, 0, 1, 1, 0, 0, 1, 0, 1, 0, 0, 0, 1, 0, 1, 1, 0, 0, 0, 1, 0, 0, 1, 0, 1, 1, 1, 1, 0, 0, 0, 1, 1, 0, 0, 1, 0, 1, 0, 1, 1, 0, 1, 1, 0, 0, 0, 0, 1, 1, 0, 0, 0, 0, 1, 0, 1, 1, 0, 0, 0, 1, 0, 0, 0, 0, 1, 0, 0],\n",
      " engine_genes=[EngineGene(engine_id=20, bits=[1, 0, 0, 1, 1, 1, 1], start_day=StartDay(bits=[0, 1, 1, 1, 1], start_day=15), team=Team(bits=[1, 0], team=2, kind='a')), EngineGene(engine_id=24, bits=[1, 1, 0, 0, 0, 1, 0], start_day=StartDay(bits=[0, 0, 0, 1, 0], start_day=2), team=Team(bits=[1, 1], team=3, kind='b')), EngineGene(engine_id=31, bits=[1, 0, 0, 0, 0, 0, 1], start_day=StartDay(bits=[0, 0, 0, 0, 1], start_day=1), team=Team(bits=[1, 0], team=2, kind='a')), EngineGene(engine_id=34, bits=[1, 1, 1, 0, 0, 0, 0], start_day=StartDay(bits=[1, 0, 0, 0, 0], start_day=16), team=Team(bits=[1, 1], team=3, kind='b')), EngineGene(engine_id=35, bits=[0, 0, 0, 1, 1, 0, 1], start_day=StartDay(bits=[0, 1, 1, 0, 1], start_day=13), team=Team(bits=[0, 0], team=0, kind='a')), EngineGene(engine_id=36, bits=[1, 0, 1, 1, 0, 1, 0], start_day=StartDay(bits=[1, 1, 0, 1, 0], start_day=26), team=Team(bits=[1, 0], team=2, kind='a')), EngineGene(engine_id=37, bits=[1, 0, 0, 0, 0, 1, 1], start_day=StartDay(bits=[0, 0, 0, 1, 1], start_day=3), team=Team(bits=[1, 0], team=2, kind='a')), EngineGene(engine_id=40, bits=[0, 1, 0, 0, 1, 1, 0], start_day=StartDay(bits=[0, 0, 1, 1, 0], start_day=6), team=Team(bits=[0, 1], team=1, kind='b')), EngineGene(engine_id=41, bits=[1, 1, 1, 0, 0, 0, 1], start_day=StartDay(bits=[1, 0, 0, 0, 1], start_day=17), team=Team(bits=[1, 1], team=3, kind='b')), EngineGene(engine_id=42, bits=[1, 0, 1, 0, 0, 0, 1], start_day=StartDay(bits=[1, 0, 0, 0, 1], start_day=17), team=Team(bits=[1, 0], team=2, kind='a')), EngineGene(engine_id=49, bits=[1, 0, 0, 1, 1, 0, 0], start_day=StartDay(bits=[0, 1, 1, 0, 0], start_day=12), team=Team(bits=[1, 0], team=2, kind='a')), EngineGene(engine_id=56, bits=[0, 0, 0, 0, 1, 1, 1], start_day=StartDay(bits=[0, 0, 1, 1, 1], start_day=7), team=Team(bits=[0, 0], team=0, kind='a')), EngineGene(engine_id=61, bits=[1, 0, 1, 0, 1, 0, 1], start_day=StartDay(bits=[1, 0, 1, 0, 1], start_day=21), team=Team(bits=[1, 0], team=2, kind='a')), EngineGene(engine_id=64, bits=[0, 1, 0, 0, 1, 0, 1], start_day=StartDay(bits=[0, 0, 1, 0, 1], start_day=5), team=Team(bits=[0, 1], team=1, kind='b')), EngineGene(engine_id=66, bits=[1, 0, 0, 1, 1, 0, 0], start_day=StartDay(bits=[0, 1, 1, 0, 0], start_day=12), team=Team(bits=[1, 0], team=2, kind='a')), EngineGene(engine_id=68, bits=[1, 0, 1, 0, 0, 0, 1], start_day=StartDay(bits=[1, 0, 0, 0, 1], start_day=17), team=Team(bits=[1, 0], team=2, kind='a')), EngineGene(engine_id=76, bits=[0, 1, 1, 0, 0, 0, 1], start_day=StartDay(bits=[1, 0, 0, 0, 1], start_day=17), team=Team(bits=[0, 1], team=1, kind='b')), EngineGene(engine_id=77, bits=[0, 0, 1, 0, 1, 1, 1], start_day=StartDay(bits=[1, 0, 1, 1, 1], start_day=23), team=Team(bits=[0, 0], team=0, kind='a')), EngineGene(engine_id=81, bits=[1, 0, 0, 0, 1, 1, 0], start_day=StartDay(bits=[0, 0, 1, 1, 0], start_day=6), team=Team(bits=[1, 0], team=2, kind='a')), EngineGene(engine_id=82, bits=[0, 1, 0, 1, 0, 1, 1], start_day=StartDay(bits=[0, 1, 0, 1, 1], start_day=11), team=Team(bits=[0, 1], team=1, kind='b')), EngineGene(engine_id=90, bits=[0, 1, 1, 0, 0, 0, 0], start_day=StartDay(bits=[1, 0, 0, 0, 0], start_day=16), team=Team(bits=[0, 1], team=1, kind='b')), EngineGene(engine_id=91, bits=[1, 1, 0, 0, 0, 0, 1], start_day=StartDay(bits=[0, 0, 0, 0, 1], start_day=1), team=Team(bits=[1, 1], team=3, kind='b')), EngineGene(engine_id=92, bits=[0, 1, 1, 0, 0, 0, 1], start_day=StartDay(bits=[1, 0, 0, 0, 1], start_day=17), team=Team(bits=[0, 1], team=1, kind='b')), EngineGene(engine_id=100, bits=[0, 0, 0, 0, 1, 0, 0], start_day=StartDay(bits=[0, 0, 1, 0, 0], start_day=4), team=Team(bits=[0, 0], team=0, kind='a'))],\n",
      " penalty=648)\n"
     ]
    }
   ],
   "source": [
    "from ass_3.initialization import Initializer\n",
    "\n",
    "\n",
    "CHROMOSOME_LENGTH = 168\n",
    "POPULATION_SIZE = 10\n",
    "MAX_DURATION = 60\n",
    "NR_OF_PARENTS = 2\n",
    "MUTATION_PROBABILITY = 0.1\n",
    "MATING_PROBABILITY = 0.9\n",
    "\n",
    "CONSTRAINTS = [\n",
    "    Day31Constraint(),\n",
    "    CompletesMaintenanceIn30Days(),\n",
    "    TeamWorksAtOneEngine(),\n",
    "]\n",
    "\n",
    "initializer= Initializer(chromosome_length=CHROMOSOME_LENGTH, population_size=POPULATION_SIZE, constraints=CONSTRAINTS)\n",
    "\n",
    "population = initializer.initialize_population()\n",
    "for chromo in population:\n",
    "    print(chromo)"
   ]
  },
  {
   "cell_type": "code",
   "execution_count": 154,
   "metadata": {},
   "outputs": [],
   "source": [
    "from ass_3.constraints import chromosome_meets_all_constraints\n",
    "\n",
    "penalties = []\n",
    "chromo: Chromosome = population[0]\n",
    "for gene in chromo.engine_genes:\n",
    "    engine = gene.engine\n",
    "    penalty = gene.penalty\n",
    "    penalties.append(penalty)"
   ]
  },
  {
   "cell_type": "code",
   "execution_count": 155,
   "metadata": {},
   "outputs": [
    {
     "data": {
      "text/plain": [
       "[Penalty(day_after_safety_day=StartDay(bits=[0, 1, 0, 0, 1], start_day=9), engine=Engine(engine_id=1, rul=[10, 26, 14, 8, 8, 24, 21, 29, 23, 13, 14, 18, 23, 24, 18, 13, 3, 27, 6, 11, 28, 29, 24, 24]), penalty=0),\n",
       " Penalty(day_after_safety_day=StartDay(bits=[1, 0, 0, 0, 1], start_day=17), engine=Engine(engine_id=2, rul=[10, 26, 14, 8, 8, 24, 21, 29, 23, 13, 14, 18, 23, 24, 18, 13, 3, 27, 6, 11, 28, 29, 24, 24]), penalty=0),\n",
       " Penalty(day_after_safety_day=StartDay(bits=[1, 0, 0, 1, 0], start_day=18), engine=Engine(engine_id=3, rul=[10, 26, 14, 8, 8, 24, 21, 29, 23, 13, 14, 18, 23, 24, 18, 13, 3, 27, 6, 11, 28, 29, 24, 24]), penalty=0),\n",
       " Penalty(day_after_safety_day=StartDay(bits=[0, 0, 0, 0, 1], start_day=1), engine=Engine(engine_id=4, rul=[10, 26, 14, 8, 8, 24, 21, 29, 23, 13, 14, 18, 23, 24, 18, 13, 3, 27, 6, 11, 28, 29, 24, 24]), penalty=0),\n",
       " Penalty(day_after_safety_day=StartDay(bits=[1, 0, 0, 1, 0], start_day=18), engine=Engine(engine_id=5, rul=[10, 26, 14, 8, 8, 24, 21, 29, 23, 13, 14, 18, 23, 24, 18, 13, 3, 27, 6, 11, 28, 29, 24, 24]), penalty=0),\n",
       " Penalty(day_after_safety_day=StartDay(bits=[0, 1, 0, 0, 0], start_day=8), engine=Engine(engine_id=6, rul=[10, 26, 14, 8, 8, 24, 21, 29, 23, 13, 14, 18, 23, 24, 18, 13, 3, 27, 6, 11, 28, 29, 24, 24]), penalty=0),\n",
       " Penalty(day_after_safety_day=StartDay(bits=[0, 1, 0, 0, 0], start_day=8), engine=Engine(engine_id=7, rul=[10, 26, 14, 8, 8, 24, 21, 29, 23, 13, 14, 18, 23, 24, 18, 13, 3, 27, 6, 11, 28, 29, 24, 24]), penalty=0),\n",
       " Penalty(day_after_safety_day=StartDay(bits=[1, 0, 0, 0, 1], start_day=17), engine=Engine(engine_id=8, rul=[10, 26, 14, 8, 8, 24, 21, 29, 23, 13, 14, 18, 23, 24, 18, 13, 3, 27, 6, 11, 28, 29, 24, 24]), penalty=0),\n",
       " Penalty(day_after_safety_day=StartDay(bits=[0, 0, 1, 0, 1], start_day=5), engine=Engine(engine_id=9, rul=[10, 26, 14, 8, 8, 24, 21, 29, 23, 13, 14, 18, 23, 24, 18, 13, 3, 27, 6, 11, 28, 29, 24, 24]), penalty=0),\n",
       " Penalty(day_after_safety_day=StartDay(bits=[0, 1, 1, 1, 1], start_day=15), engine=Engine(engine_id=10, rul=[10, 26, 14, 8, 8, 24, 21, 29, 23, 13, 14, 18, 23, 24, 18, 13, 3, 27, 6, 11, 28, 29, 24, 24]), penalty=0),\n",
       " Penalty(day_after_safety_day=StartDay(bits=[0, 0, 1, 0, 0], start_day=4), engine=Engine(engine_id=11, rul=[10, 26, 14, 8, 8, 24, 21, 29, 23, 13, 14, 18, 23, 24, 18, 13, 3, 27, 6, 11, 28, 29, 24, 24]), penalty=0),\n",
       " Penalty(day_after_safety_day=StartDay(bits=[1, 1, 0, 0, 1], start_day=25), engine=Engine(engine_id=12, rul=[10, 26, 14, 8, 8, 24, 21, 29, 23, 13, 14, 18, 23, 24, 18, 13, 3, 27, 6, 11, 28, 29, 24, 24]), penalty=0),\n",
       " Penalty(day_after_safety_day=StartDay(bits=[0, 0, 1, 0, 0], start_day=4), engine=Engine(engine_id=13, rul=[10, 26, 14, 8, 8, 24, 21, 29, 23, 13, 14, 18, 23, 24, 18, 13, 3, 27, 6, 11, 28, 29, 24, 24]), penalty=0),\n",
       " Penalty(day_after_safety_day=StartDay(bits=[0, 1, 1, 0, 1], start_day=13), engine=Engine(engine_id=14, rul=[10, 26, 14, 8, 8, 24, 21, 29, 23, 13, 14, 18, 23, 24, 18, 13, 3, 27, 6, 11, 28, 29, 24, 24]), penalty=0),\n",
       " Penalty(day_after_safety_day=StartDay(bits=[0, 1, 0, 0, 0], start_day=8), engine=Engine(engine_id=15, rul=[10, 26, 14, 8, 8, 24, 21, 29, 23, 13, 14, 18, 23, 24, 18, 13, 3, 27, 6, 11, 28, 29, 24, 24]), penalty=0),\n",
       " Penalty(day_after_safety_day=StartDay(bits=[0, 0, 0, 1, 1], start_day=3), engine=Engine(engine_id=16, rul=[10, 26, 14, 8, 8, 24, 21, 29, 23, 13, 14, 18, 23, 24, 18, 13, 3, 27, 6, 11, 28, 29, 24, 24]), penalty=0),\n",
       " Penalty(day_after_safety_day=StartDay(bits=[1, 1, 0, 0, 0], start_day=24), engine=Engine(engine_id=17, rul=[10, 26, 14, 8, 8, 24, 21, 29, 23, 13, 14, 18, 23, 24, 18, 13, 3, 27, 6, 11, 28, 29, 24, 24]), penalty=0),\n",
       " Penalty(day_after_safety_day=StartDay(bits=[0, 1, 0, 0, 1], start_day=9), engine=Engine(engine_id=18, rul=[10, 26, 14, 8, 8, 24, 21, 29, 23, 13, 14, 18, 23, 24, 18, 13, 3, 27, 6, 11, 28, 29, 24, 24]), penalty=0),\n",
       " Penalty(day_after_safety_day=StartDay(bits=[1, 1, 0, 1, 0], start_day=26), engine=Engine(engine_id=19, rul=[10, 26, 14, 8, 8, 24, 21, 29, 23, 13, 14, 18, 23, 24, 18, 13, 3, 27, 6, 11, 28, 29, 24, 24]), penalty=0),\n",
       " Penalty(day_after_safety_day=StartDay(bits=[0, 0, 0, 1, 0], start_day=2), engine=Engine(engine_id=20, rul=[10, 26, 14, 8, 8, 24, 21, 29, 23, 13, 14, 18, 23, 24, 18, 13, 3, 27, 6, 11, 28, 29, 24, 24]), penalty=0),\n",
       " Penalty(day_after_safety_day=StartDay(bits=[1, 0, 0, 0, 0], start_day=16), engine=Engine(engine_id=21, rul=[10, 26, 14, 8, 8, 24, 21, 29, 23, 13, 14, 18, 23, 24, 18, 13, 3, 27, 6, 11, 28, 29, 24, 24]), penalty=0),\n",
       " Penalty(day_after_safety_day=StartDay(bits=[0, 0, 1, 1, 1], start_day=7), engine=Engine(engine_id=22, rul=[10, 26, 14, 8, 8, 24, 21, 29, 23, 13, 14, 18, 23, 24, 18, 13, 3, 27, 6, 11, 28, 29, 24, 24]), penalty=0),\n",
       " Penalty(day_after_safety_day=StartDay(bits=[0, 1, 0, 0, 0], start_day=8), engine=Engine(engine_id=23, rul=[10, 26, 14, 8, 8, 24, 21, 29, 23, 13, 14, 18, 23, 24, 18, 13, 3, 27, 6, 11, 28, 29, 24, 24]), penalty=0),\n",
       " Penalty(day_after_safety_day=StartDay(bits=[0, 1, 0, 1, 0], start_day=10), engine=Engine(engine_id=24, rul=[10, 26, 14, 8, 8, 24, 21, 29, 23, 13, 14, 18, 23, 24, 18, 13, 3, 27, 6, 11, 28, 29, 24, 24]), penalty=0)]"
      ]
     },
     "execution_count": 155,
     "metadata": {},
     "output_type": "execute_result"
    }
   ],
   "source": [
    "penalties"
   ]
  },
  {
   "cell_type": "code",
   "execution_count": 132,
   "metadata": {},
   "outputs": [
    {
     "data": {
      "text/plain": [
       "Chromosome(bits=[1, 0, 0, 0, 0, 0, 1, 0, 0, 1, 1, 0, 0, 0, 1, 0, 1, 0, 1, 0, 1, 0, 1, 1, 0, 1, 0, 1, 1, 0, 1, 1, 0, 1, 0, 0, 1, 0, 0, 1, 1, 0, 0, 0, 0, 1, 0, 1, 1, 0, 0, 0, 0, 1, 1, 1, 0, 1, 1, 0, 1, 1, 1, 1, 1, 1, 1, 0, 0, 1, 1, 1, 1, 0, 0, 1, 1, 1, 0, 0, 0, 1, 0, 0, 1, 1, 0, 0, 1, 1, 0, 1, 0, 1, 0, 0, 0, 1, 1, 0, 1, 0, 1, 0, 0, 1, 1, 0, 1, 0, 0, 0, 0, 0, 0, 0, 1, 0, 0, 0, 0, 1, 0, 1, 0, 0, 1, 0, 0, 0, 0, 1, 1, 0, 0, 1, 0, 1, 1, 1, 0, 1, 1, 0, 0, 0, 0, 1, 1, 0, 1, 0, 1, 1, 0, 0, 1, 0, 1, 0, 0, 1, 0, 0, 1, 0, 1, 0],\n",
       " engine_genes=[EngineGene(engine_id=1, bits=[1, 0, 0, 0, 0, 0, 1], start_day=StartDay(bits=[0, 0, 0, 0, 1], start_day=1), team=Team(bits=[1, 0], team=2, kind='a')), EngineGene(engine_id=2, bits=[0, 0, 1, 1, 0, 0, 0], start_day=StartDay(bits=[1, 1, 0, 0, 0], start_day=24), team=Team(bits=[0, 0], team=0, kind='a')), EngineGene(engine_id=3, bits=[1, 0, 1, 0, 1, 0, 1], start_day=StartDay(bits=[1, 0, 1, 0, 1], start_day=21), team=Team(bits=[1, 0], team=2, kind='a')), EngineGene(engine_id=4, bits=[0, 1, 1, 0, 1, 0, 1], start_day=StartDay(bits=[1, 0, 1, 0, 1], start_day=21), team=Team(bits=[0, 1], team=1, kind='b')), EngineGene(engine_id=5, bits=[1, 0, 1, 1, 0, 1, 0], start_day=StartDay(bits=[1, 1, 0, 1, 0], start_day=26), team=Team(bits=[1, 0], team=2, kind='a')), EngineGene(engine_id=6, bits=[0, 1, 0, 0, 1, 1, 0], start_day=StartDay(bits=[0, 0, 1, 1, 0], start_day=6), team=Team(bits=[0, 1], team=1, kind='b')), EngineGene(engine_id=7, bits=[0, 0, 0, 1, 0, 1, 1], start_day=StartDay(bits=[0, 1, 0, 1, 1], start_day=11), team=Team(bits=[0, 0], team=0, kind='a')), EngineGene(engine_id=8, bits=[0, 0, 0, 0, 1, 1, 1], start_day=StartDay(bits=[0, 0, 1, 1, 1], start_day=7), team=Team(bits=[0, 0], team=0, kind='a')), EngineGene(engine_id=9, bits=[0, 1, 1, 0, 1, 1, 1], start_day=StartDay(bits=[1, 0, 1, 1, 1], start_day=23), team=Team(bits=[0, 1], team=1, kind='b')), EngineGene(engine_id=10, bits=[1, 1, 1, 1, 0, 0, 1], start_day=StartDay(bits=[1, 1, 0, 0, 1], start_day=25), team=Team(bits=[1, 1], team=3, kind='b')), EngineGene(engine_id=11, bits=[1, 1, 1, 0, 0, 1, 1], start_day=StartDay(bits=[1, 0, 0, 1, 1], start_day=19), team=Team(bits=[1, 1], team=3, kind='b')), EngineGene(engine_id=12, bits=[1, 0, 0, 0, 1, 0, 0], start_day=StartDay(bits=[0, 0, 1, 0, 0], start_day=4), team=Team(bits=[1, 0], team=2, kind='a')), EngineGene(engine_id=13, bits=[1, 1, 0, 0, 1, 1, 0], start_day=StartDay(bits=[0, 0, 1, 1, 0], start_day=6), team=Team(bits=[1, 1], team=3, kind='b')), EngineGene(engine_id=14, bits=[1, 0, 1, 0, 0, 0, 1], start_day=StartDay(bits=[1, 0, 0, 0, 1], start_day=17), team=Team(bits=[1, 0], team=2, kind='a')), EngineGene(engine_id=15, bits=[1, 0, 1, 0, 1, 0, 0], start_day=StartDay(bits=[1, 0, 1, 0, 0], start_day=20), team=Team(bits=[1, 0], team=2, kind='a')), EngineGene(engine_id=16, bits=[1, 1, 0, 1, 0, 0, 0], start_day=StartDay(bits=[0, 1, 0, 0, 0], start_day=8), team=Team(bits=[1, 1], team=3, kind='b')), EngineGene(engine_id=17, bits=[0, 0, 0, 0, 1, 0, 0], start_day=StartDay(bits=[0, 0, 1, 0, 0], start_day=4), team=Team(bits=[0, 0], team=0, kind='a')), EngineGene(engine_id=18, bits=[0, 0, 1, 0, 1, 0, 0], start_day=StartDay(bits=[1, 0, 1, 0, 0], start_day=20), team=Team(bits=[0, 0], team=0, kind='a')), EngineGene(engine_id=19, bits=[1, 0, 0, 0, 0, 1, 1], start_day=StartDay(bits=[0, 0, 0, 1, 1], start_day=3), team=Team(bits=[1, 0], team=2, kind='a')), EngineGene(engine_id=20, bits=[0, 0, 1, 0, 1, 1, 1], start_day=StartDay(bits=[1, 0, 1, 1, 1], start_day=23), team=Team(bits=[0, 0], team=0, kind='a')), EngineGene(engine_id=21, bits=[0, 1, 1, 0, 0, 0, 0], start_day=StartDay(bits=[1, 0, 0, 0, 0], start_day=16), team=Team(bits=[0, 1], team=1, kind='b')), EngineGene(engine_id=22, bits=[1, 1, 0, 1, 0, 1, 1], start_day=StartDay(bits=[0, 1, 0, 1, 1], start_day=11), team=Team(bits=[1, 1], team=3, kind='b')), EngineGene(engine_id=23, bits=[0, 0, 1, 0, 1, 0, 0], start_day=StartDay(bits=[1, 0, 1, 0, 0], start_day=20), team=Team(bits=[0, 0], team=0, kind='a')), EngineGene(engine_id=24, bits=[1, 0, 0, 1, 0, 1, 0], start_day=StartDay(bits=[0, 1, 0, 1, 0], start_day=10), team=Team(bits=[1, 0], team=2, kind='a'))],\n",
       " penalty=250)"
      ]
     },
     "execution_count": 132,
     "metadata": {},
     "output_type": "execute_result"
    }
   ],
   "source": [
    "chromo = create_random_chromosome(168, constraints)\n"
   ]
  },
  {
   "cell_type": "code",
   "execution_count": 70,
   "metadata": {},
   "outputs": [
    {
     "data": {
      "text/plain": [
       "True"
      ]
     },
     "execution_count": 70,
     "metadata": {},
     "output_type": "execute_result"
    }
   ],
   "source": [
    "import random\n",
    "from ass_3.chromosome import Chromosome\n",
    "from ass_3.constraints import chromosome_meets_all_constraints\n",
    "nr_of_bits = 14\n",
    "\n",
    "bits_string = list(f'{random.getrandbits(nr_of_bits):=0{nr_of_bits}b}')\n",
    "bits = list(map(int, bits_string))\n",
    "chromosome = Chromosome(bits)\n",
    "chromosome_meets_all_constraints(chromosome, constraints)"
   ]
  },
  {
   "cell_type": "code",
   "execution_count": 92,
   "metadata": {},
   "outputs": [
    {
     "ename": "AttributeError",
     "evalue": "'int' object has no attribute 'penalty'",
     "output_type": "error",
     "traceback": [
      "\u001b[0;31m---------------------------------------------------------------------------\u001b[0m",
      "\u001b[0;31mAttributeError\u001b[0m                            Traceback (most recent call last)",
      "Cell \u001b[0;32mIn[92], line 5\u001b[0m\n\u001b[1;32m      1\u001b[0m \u001b[38;5;28;01mfrom\u001b[39;00m \u001b[38;5;21;01mass_3\u001b[39;00m\u001b[38;5;21;01m.\u001b[39;00m\u001b[38;5;21;01mselection\u001b[39;00m \u001b[38;5;28;01mimport\u001b[39;00m RouletteWheelSelection\n\u001b[1;32m      3\u001b[0m roulette \u001b[38;5;241m=\u001b[39m RouletteWheelSelection(\u001b[38;5;241m2\u001b[39m)\n\u001b[0;32m----> 5\u001b[0m \u001b[43mroulette\u001b[49m\u001b[38;5;241;43m.\u001b[39;49m\u001b[43mselect_parents\u001b[49m\u001b[43m(\u001b[49m\u001b[43m[\u001b[49m\u001b[38;5;241;43m0\u001b[39;49m\u001b[43m,\u001b[49m\u001b[38;5;241;43m1\u001b[39;49m\u001b[43m,\u001b[49m\u001b[38;5;241;43m0\u001b[39;49m\u001b[43m,\u001b[49m\u001b[38;5;241;43m0\u001b[39;49m\u001b[43m,\u001b[49m\u001b[38;5;241;43m0\u001b[39;49m\u001b[43m,\u001b[49m\u001b[38;5;241;43m1\u001b[39;49m\u001b[43m,\u001b[49m\u001b[38;5;241;43m1\u001b[39;49m\u001b[43m]\u001b[49m\u001b[43m)\u001b[49m\n",
      "File \u001b[0;32m~/projects/master_year_1/prescriptive_algorithms/assignment3/prescriptive_6/ass_3/ass_3/selection/__init__.py:53\u001b[0m, in \u001b[0;36mRouletteWheelSelection.select_parents\u001b[0;34m(self, population)\u001b[0m\n\u001b[1;32m     51\u001b[0m     \u001b[38;5;28mself\u001b[39m\u001b[38;5;241m.\u001b[39mnr_of_parents \u001b[38;5;241m-\u001b[39m\u001b[38;5;241m=\u001b[39m \u001b[38;5;241m1\u001b[39m\n\u001b[1;32m     52\u001b[0m \u001b[38;5;66;03m# print(Chromosome.get_penalty())\u001b[39;00m\n\u001b[0;32m---> 53\u001b[0m penalties \u001b[38;5;241m=\u001b[39m \u001b[43m[\u001b[49m\u001b[43mchromosome\u001b[49m\u001b[38;5;241;43m.\u001b[39;49m\u001b[43mpenalty\u001b[49m\u001b[43m \u001b[49m\u001b[38;5;28;43;01mfor\u001b[39;49;00m\u001b[43m \u001b[49m\u001b[43mchromosome\u001b[49m\u001b[43m \u001b[49m\u001b[38;5;129;43;01min\u001b[39;49;00m\u001b[43m \u001b[49m\u001b[43mpopulation\u001b[49m\u001b[43m]\u001b[49m\n\u001b[1;32m     55\u001b[0m inverted_values \u001b[38;5;241m=\u001b[39m [\u001b[38;5;241m1.0\u001b[39m \u001b[38;5;241m/\u001b[39m penalty \u001b[38;5;28;01mfor\u001b[39;00m penalty \u001b[38;5;129;01min\u001b[39;00m penalties]\n\u001b[1;32m     56\u001b[0m probabilities \u001b[38;5;241m=\u001b[39m np\u001b[38;5;241m.\u001b[39marray(inverted_values) \u001b[38;5;241m/\u001b[39m \u001b[38;5;28msum\u001b[39m(inverted_values)\n",
      "File \u001b[0;32m~/projects/master_year_1/prescriptive_algorithms/assignment3/prescriptive_6/ass_3/ass_3/selection/__init__.py:53\u001b[0m, in \u001b[0;36m<listcomp>\u001b[0;34m(.0)\u001b[0m\n\u001b[1;32m     51\u001b[0m     \u001b[38;5;28mself\u001b[39m\u001b[38;5;241m.\u001b[39mnr_of_parents \u001b[38;5;241m-\u001b[39m\u001b[38;5;241m=\u001b[39m \u001b[38;5;241m1\u001b[39m\n\u001b[1;32m     52\u001b[0m \u001b[38;5;66;03m# print(Chromosome.get_penalty())\u001b[39;00m\n\u001b[0;32m---> 53\u001b[0m penalties \u001b[38;5;241m=\u001b[39m [\u001b[43mchromosome\u001b[49m\u001b[38;5;241;43m.\u001b[39;49m\u001b[43mpenalty\u001b[49m \u001b[38;5;28;01mfor\u001b[39;00m chromosome \u001b[38;5;129;01min\u001b[39;00m population]\n\u001b[1;32m     55\u001b[0m inverted_values \u001b[38;5;241m=\u001b[39m [\u001b[38;5;241m1.0\u001b[39m \u001b[38;5;241m/\u001b[39m penalty \u001b[38;5;28;01mfor\u001b[39;00m penalty \u001b[38;5;129;01min\u001b[39;00m penalties]\n\u001b[1;32m     56\u001b[0m probabilities \u001b[38;5;241m=\u001b[39m np\u001b[38;5;241m.\u001b[39marray(inverted_values) \u001b[38;5;241m/\u001b[39m \u001b[38;5;28msum\u001b[39m(inverted_values)\n",
      "\u001b[0;31mAttributeError\u001b[0m: 'int' object has no attribute 'penalty'"
     ]
    }
   ],
   "source": [
    "from ass_3.selection import RouletteWheelSelection\n",
    "\n",
    "roulette = RouletteWheelSelection(2)\n",
    "\n",
    "roulette.select_parents([0,1,0,0,0,1,1])"
   ]
  },
  {
   "cell_type": "code",
   "execution_count": 167,
   "metadata": {},
   "outputs": [],
   "source": [
    "if 4%2:\n",
    "    print(\"bla\")"
   ]
  },
  {
   "cell_type": "code",
   "execution_count": 172,
   "metadata": {},
   "outputs": [
    {
     "data": {
      "text/plain": [
       "3"
      ]
     },
     "execution_count": 172,
     "metadata": {},
     "output_type": "execute_result"
    }
   ],
   "source": [
    "Chromosome(bits=[0, 1, 1, 1, 0, 0, 0, 1, 0, 1, 1, 0, 0, 0, 1, 1, 1, 1, 1, 0, 1, 0, 1, 1, 1, 1, 0, 0, 1, 1, 0, 0, 0, 1, 0, 1, 1, 1, 1, 1, 1, 1, 1, 0, 0, 1, 1, 0, 1, 1, 0, 0, 1, 0, 0, 0, 0, 0, 1, 0, 1, 1, 1, 0, 0, 1, 0, 1, 1, 1, 1, 1, 0, 0, 1, 0, 0, 1, 1, 1, 1, 0, 1, 1, 0, 1, 1, 0, 1, 1, 0, 1, 0, 0, 1, 1, 1, 0, 0, 1, 0, 0, 1, 0, 0, 0, 1, 1, 0, 1, 1, 1, 1, 0, 1, 1, 0, 0, 0, 0, 0, 1, 1, 0, 0, 0, 0, 0, 1, 0, 0, 1, 0, 0, 0, 0, 0, 1, 1, 1, 0, 0, 0, 0, 1, 0, 1, 0, 1, 1, 0, 1, 1, 0, 1, 0, 0, 1, 1, 0, 1, 0, 0, 1, 0, 0, 0, 0],\n",
    " engine_genes=[EngineGene(engine_id=20, bits=[0, 1, 1, 1, 0, 0, 0], start_day=StartDay(bits=[1, 1, 0, 0, 0], start_day=24), team=Team(bits=[0, 1], team=1, kind='b')), EngineGene(engine_id=24, bits=[1, 0, 1, 1, 0, 0, 0], start_day=StartDay(bits=[1, 1, 0, 0, 0], start_day=24), team=Team(bits=[1, 0], team=2, kind='a')), EngineGene(engine_id=31, bits=[1, 1, 1, 1, 1, 0, 1], start_day=StartDay(bits=[1, 1, 1, 0, 1], start_day=29), team=Team(bits=[1, 1], team=3, kind='b')), EngineGene(engine_id=34, bits=[0, 1, 1, 1, 1, 0, 0], start_day=StartDay(bits=[1, 1, 1, 0, 0], start_day=28), team=Team(bits=[0, 1], team=1, kind='b')), EngineGene(engine_id=35, bits=[1, 1, 0, 0, 0, 1, 0], start_day=StartDay(bits=[0, 0, 0, 1, 0], start_day=2), team=Team(bits=[1, 1], team=3, kind='b')), EngineGene(engine_id=36, bits=[1, 1, 1, 1, 1, 1, 1], start_day=StartDay(bits=[1, 1, 1, 1, 1], start_day=31), team=Team(bits=[1, 1], team=3, kind='b')), EngineGene(engine_id=37, bits=[1, 0, 0, 1, 1, 0, 1], start_day=StartDay(bits=[0, 1, 1, 0, 1], start_day=13), team=Team(bits=[1, 0], team=2, kind='a')), EngineGene(engine_id=40, bits=[1, 0, 0, 1, 0, 0, 0], start_day=StartDay(bits=[0, 1, 0, 0, 0], start_day=8), team=Team(bits=[1, 0], team=2, kind='a')), EngineGene(engine_id=41, bits=[0, 0, 1, 0, 1, 1, 1], start_day=StartDay(bits=[1, 0, 1, 1, 1], start_day=23), team=Team(bits=[0, 0], team=0, kind='a')), EngineGene(engine_id=42, bits=[0, 0, 1, 0, 1, 1, 1], start_day=StartDay(bits=[1, 0, 1, 1, 1], start_day=23), team=Team(bits=[0, 0], team=0, kind='a')), EngineGene(engine_id=49, bits=[1, 1, 0, 0, 1, 0, 0], start_day=StartDay(bits=[0, 0, 1, 0, 0], start_day=4), team=Team(bits=[1, 1], team=3, kind='b')), EngineGene(engine_id=56, bits=[1, 1, 1, 1, 0, 1, 1], start_day=StartDay(bits=[1, 1, 0, 1, 1], start_day=27), team=Team(bits=[1, 1], team=3, kind='b')), EngineGene(engine_id=61, bits=[0, 1, 1, 0, 1, 1, 0], start_day=StartDay(bits=[1, 0, 1, 1, 0], start_day=22), team=Team(bits=[0, 1], team=1, kind='b')), EngineGene(engine_id=64, bits=[1, 0, 0, 1, 1, 1, 0], start_day=StartDay(bits=[0, 1, 1, 1, 0], start_day=14), team=Team(bits=[1, 0], team=2, kind='a')), EngineGene(engine_id=66, bits=[0, 1, 0, 0, 1, 0, 0], start_day=StartDay(bits=[0, 0, 1, 0, 0], start_day=4), team=Team(bits=[0, 1], team=1, kind='b')), EngineGene(engine_id=68, bits=[0, 1, 1, 0, 1, 1, 1], start_day=StartDay(bits=[1, 0, 1, 1, 1], start_day=23), team=Team(bits=[0, 1], team=1, kind='b')), EngineGene(engine_id=76, bits=[1, 0, 1, 1, 0, 0, 0], start_day=StartDay(bits=[1, 1, 0, 0, 0], start_day=24), team=Team(bits=[1, 0], team=2, kind='a')), EngineGene(engine_id=77, bits=[0, 0, 1, 1, 0, 0, 0], start_day=StartDay(bits=[1, 1, 0, 0, 0], start_day=24), team=Team(bits=[0, 0], team=0, kind='a')), EngineGene(engine_id=81, bits=[0, 0, 1, 0, 0, 1, 0], start_day=StartDay(bits=[1, 0, 0, 1, 0], start_day=18), team=Team(bits=[0, 0], team=0, kind='a')), EngineGene(engine_id=82, bits=[0, 0, 0, 0, 1, 1, 1], start_day=StartDay(bits=[0, 0, 1, 1, 1], start_day=7), team=Team(bits=[0, 0], team=0, kind='a')), EngineGene(engine_id=90, bits=[0, 0, 0, 0, 1, 0, 1], start_day=StartDay(bits=[0, 0, 1, 0, 1], start_day=5), team=Team(bits=[0, 0], team=0, kind='a')), EngineGene(engine_id=91, bits=[0, 1, 1, 0, 1, 1, 0], start_day=StartDay(bits=[1, 0, 1, 1, 0], start_day=22), team=Team(bits=[0, 1], team=1, kind='b')), EngineGene(engine_id=92, bits=[1, 0, 0, 1, 1, 0, 1], start_day=StartDay(bits=[0, 1, 1, 0, 1], start_day=13), team=Team(bits=[1, 0], team=2, kind='a')), EngineGene(engine_id=100, bits=[0, 0, 1, 0, 0, 0, 0], start_day=StartDay(bits=[1, 0, 0, 0, 0], start_day=16), team=Team(bits=[0, 0], team=0, kind='a'))],\n",
    " penalty=2048)"
   ]
  },
  {
   "cell_type": "code",
   "execution_count": 177,
   "metadata": {},
   "outputs": [
    {
     "data": {
      "text/plain": [
       "[0, 1, 1, 1, 0, 0, 0]"
      ]
     },
     "execution_count": 177,
     "metadata": {},
     "output_type": "execute_result"
    }
   ],
   "source": [
    "bits = [0, 1, 1, 1, 0, 0, 0, 1, 0, 1, 1, 0, 0, 0, 1, 1, 1, 1, 1, 0, 1, 0, 1, 1, 1, 1, 0, 0, 1, 1, 0, 0, 0, 1, 0, 1, 1, 1, 1, 1, 1, 1, 1, 0, 0, 1, 1, 0, 1, 1, 0, 0, 1, 0, 0, 0, 0, 0, 1, 0, 1, 1, 1, 0, 0, 1, 0, 1, 1, 1, 1, 1, 0, 0, 1, 0, 0, 1, 1, 1, 1, 0, 1, 1, 0, 1, 1, 0, 1, 1, 0, 1, 0, 0, 1, 1, 1, 0, 0, 1, 0, 0, 1, 0, 0, 0, 1, 1, 0, 1, 1, 1, 1, 0, 1, 1, 0, 0, 0, 0, 0, 1, 1, 0, 0, 0, 0, 0, 1, 0, 0, 1, 0, 0, 0, 0, 0, 1, 1, 1, 0, 0, 0, 0, 1, 0, 1, 0, 1, 1, 0, 1, 1, 0, 1, 0, 0, 1, 1, 0, 1, 0, 0, 1, 0, 0, 0, 0]\n",
    "gene = bits[:7]\n",
    "gene"
   ]
  },
  {
   "cell_type": "code",
   "execution_count": 181,
   "metadata": {},
   "outputs": [
    {
     "name": "stdout",
     "output_type": "stream",
     "text": [
      "team= 1\n",
      "day= 24\n",
      "======================\n",
      "team= 2\n",
      "day= 24\n",
      "======================\n",
      "team= 3\n",
      "day= 29\n",
      "======================\n",
      "team= 1\n",
      "day= 28\n",
      "======================\n",
      "team= 3\n",
      "day= 2\n",
      "======================\n",
      "team= 3\n",
      "day= 31\n",
      "======================\n",
      "team= 2\n",
      "day= 13\n",
      "======================\n",
      "team= 2\n",
      "day= 8\n",
      "======================\n",
      "team= 0\n",
      "day= 23\n",
      "======================\n",
      "team= 0\n",
      "day= 23\n",
      "======================\n",
      "team= 3\n",
      "day= 4\n",
      "======================\n",
      "team= 3\n",
      "day= 27\n",
      "======================\n",
      "team= 1\n",
      "day= 22\n",
      "======================\n",
      "team= 2\n",
      "day= 14\n",
      "======================\n",
      "team= 1\n",
      "day= 4\n",
      "======================\n",
      "team= 1\n",
      "day= 23\n",
      "======================\n",
      "team= 2\n",
      "day= 24\n",
      "======================\n",
      "team= 0\n",
      "day= 24\n",
      "======================\n",
      "team= 0\n",
      "day= 18\n",
      "======================\n",
      "team= 0\n",
      "day= 7\n",
      "======================\n",
      "team= 0\n",
      "day= 5\n",
      "======================\n",
      "team= 1\n",
      "day= 22\n",
      "======================\n",
      "team= 2\n",
      "day= 13\n",
      "======================\n",
      "team= 0\n",
      "day= 16\n",
      "======================\n"
     ]
    }
   ],
   "source": [
    "genes = [bits[i:i+7] for i in range(0, len(bits), 7)]\n",
    "for gene in genes:\n",
    "    bitstring = \"\".join(str(bit) for bit in gene)\n",
    "    team = bitstring[:2]\n",
    "    stday = bitstring[2:]\n",
    "    print(\"team=\", int(team, 2))\n",
    "    print(\"day=\", int(stday, 2))\n",
    "    print(\"======================\")"
   ]
  },
  {
   "cell_type": "code",
   "execution_count": 1,
   "metadata": {},
   "outputs": [],
   "source": [
    "import concurrent.futures\n",
    "import random\n",
    "from ass_3.chromosome import Chromosome\n",
    "from ass_3.constraints import Day31Constraint, CompletesMaintenanceIn30Days, TeamWorksAtOneEngine\n",
    "from ass_3.constraints import Constraint\n",
    "from ass_3.constraints import chromosome_meets_all_constraints\n",
    "\n",
    "\n",
    "# Assuming Chromosome and Constraint classes and chromosome_meets_all_constraints function are defined elsewhere\n",
    "\n",
    "def create_random_chromosome(nr_of_bits: int) -> Chromosome:\n",
    "    \"\"\"\n",
    "    Create a random Chromosome object.\n",
    "\n",
    "    Parameters:\n",
    "    - nr_of_bits (int): The number of bits in the chromosome.\n",
    "\n",
    "    Returns:\n",
    "    - Chromosome: A random Chromosome object.\n",
    "    \"\"\"\n",
    "    # generate a list of random bits and create a Chromosome object\n",
    "    bits_string = list(f'{random.getrandbits(nr_of_bits):=0{nr_of_bits}b}')\n",
    "    bits = list(map(int, bits_string))\n",
    "    chromosome = Chromosome(bits)\n",
    "    return chromosome\n",
    "\n",
    "def create_valid_chromosome(nr_of_bits: int, constraints: list[Constraint]) -> Chromosome:\n",
    "    \"\"\"\n",
    "    Create a valid Chromosome object that meets the given constraints.\n",
    "\n",
    "    Parameters:\n",
    "    - nr_of_bits (int): The number of bits in the chromosome.\n",
    "    - constraints (List[Constraint]): List of constraints to be satisfied.\n",
    "\n",
    "    Returns:\n",
    "    - Chromosome: A valid Chromosome object that satisfies the constraints.\n",
    "    \"\"\"\n",
    "    # keep generating random chromosome until a valid (meets all constraints) one is found\n",
    "    while True:\n",
    "        chromosome = create_random_chromosome(nr_of_bits)\n",
    "        if chromosome_meets_all_constraints(chromosome, constraints):\n",
    "            break\n",
    "    return chromosome\n",
    "\n",
    "def initialize_population(population_size: int, nr_of_bits: int, constraints: list[Constraint], num_cores: int) -> list[Chromosome]:\n",
    "    \"\"\"\n",
    "    Initialize a population of Chromosome objects that are valid (meets all constraints).\n",
    "\n",
    "    Parameters:\n",
    "    - population_size (int): The size of the population.\n",
    "    - nr_of_bits (int): The number of bits in each chromosome (7 bits per engine).\n",
    "    - constraints (List[Constraint]): List of constraints to be satisfied.\n",
    "    - num_cores (int): The number of cores to use for parallel execution.\n",
    "\n",
    "    Returns:\n",
    "    - List[Chromosome]: A list of Chromosome objects representing the initialized population.\n",
    "    \"\"\"\n",
    "    with concurrent.futures.ProcessPoolExecutor(max_workers=num_cores) as executor:\n",
    "        futures = [executor.submit(create_valid_chromosome, nr_of_bits, constraints) for _ in range(population_size)]\n",
    "        population = [future.result() for future in concurrent.futures.as_completed(futures)]\n",
    "    return population\n",
    "\n",
    "# Example usage:\n",
    "# Assuming Chromosome and Constraint are defined, and constraints is a list of Constraint objects\n",
    "CONSTRAINTS = [\n",
    "    TeamWorksAtOneEngine(),\n",
    "    # Day31Constraint(),\n",
    "    # CompletesMaintenanceIn30Days(),\n",
    "]\n",
    "population_size = 2\n",
    "nr_of_bits = 168\n",
    "constraints = CONSTRAINTS  # Add appropriate constraints here\n",
    "num_cores = 10  # Number of cores to use\n",
    "\n",
    "population = initialize_population(population_size, nr_of_bits, constraints, num_cores)\n",
    "print(\"Population initialized:\", population)\n"
   ]
  },
  {
   "cell_type": "code",
   "execution_count": 28,
   "metadata": {},
   "outputs": [],
   "source": [
    "if not 1==1 and 2==2:\n",
    "    print(\"bla\")"
   ]
  },
  {
   "cell_type": "code",
   "execution_count": 35,
   "metadata": {},
   "outputs": [
    {
     "ename": "ImportError",
     "evalue": "cannot import name 'df_final' from 'ass_3.main' (/home/floor/projects/master_year_1/prescriptive_algorithms/assignment3/prescriptive_6/ass_3/ass_3/main.py)",
     "output_type": "error",
     "traceback": [
      "\u001b[0;31m---------------------------------------------------------------------------\u001b[0m",
      "\u001b[0;31mImportError\u001b[0m                               Traceback (most recent call last)",
      "Cell \u001b[0;32mIn[35], line 1\u001b[0m\n\u001b[0;32m----> 1\u001b[0m \u001b[38;5;28;01mfrom\u001b[39;00m \u001b[38;5;21;01mass_3\u001b[39;00m\u001b[38;5;21;01m.\u001b[39;00m\u001b[38;5;21;01mmain\u001b[39;00m \u001b[38;5;28;01mimport\u001b[39;00m df_final \n\u001b[1;32m      3\u001b[0m df_final[df_final[\u001b[38;5;124m'\u001b[39m\u001b[38;5;124mteams\u001b[39m\u001b[38;5;124m'\u001b[39m]\u001b[38;5;241m==\u001b[39m\u001b[38;5;241m2\u001b[39m]\n",
      "\u001b[0;31mImportError\u001b[0m: cannot import name 'df_final' from 'ass_3.main' (/home/floor/projects/master_year_1/prescriptive_algorithms/assignment3/prescriptive_6/ass_3/ass_3/main.py)"
     ]
    }
   ],
   "source": [
    "from ass_3.main import df_final \n",
    "\n",
    "df_final[df_final['teams']==2]"
   ]
  },
  {
   "cell_type": "code",
   "execution_count": 2,
   "metadata": {},
   "outputs": [
    {
     "name": "stdout",
     "output_type": "stream",
     "text": [
      "Population initialized: [Chromosome(bits=[0, 0, 0, 0, 0, 0, 0, 1, 0, 0, 0, 0, 0, 0, 0, 0, 1, 0, 0, 1, 0, 1, 0, 0, 1, 1, 1, 0, 1, 0, 0, 0, 1, 0, 1, 1, 1, 1, 0, 0, 1, 1, 0, 0, 1, 0, 1, 1, 0, 1, 0, 1, 1, 0, 0, 1, 1, 0, 0, 1, 0, 0, 1, 0, 1, 0, 0, 0, 0, 0, 1, 1, 1, 1, 0, 0, 1, 0, 1, 1, 0, 1, 1, 0, 0, 1, 0, 1, 1, 0, 1, 1, 0, 0, 0, 0, 0, 0, 1, 0, 1, 0, 1, 0, 0, 0, 0, 1, 1, 0, 1, 1, 1, 1, 0, 1, 0, 1, 0, 0, 0, 0, 1, 0, 1, 0, 1, 1, 0, 0, 0, 0, 0, 1, 0, 0, 0, 0, 0, 0, 0, 1, 0, 0, 0, 0, 0, 1, 1, 0, 0, 0, 0, 0, 1, 1, 0, 0, 0, 0, 0, 0, 1, 0, 0, 0, 0, 1],\n",
      " engine_genes=[EngineGene(engine_id=20, bits=[0, 0, 0, 0, 0, 0, 0], start_day=StartDay(bits=[0, 0, 0, 0, 0], start_day=9999999999), team=Team(bits=[0, 0], team=0, kind='a')), EngineGene(engine_id=24, bits=[1, 0, 0, 0, 0, 0, 0], start_day=StartDay(bits=[0, 0, 0, 0, 0], start_day=9999999999), team=Team(bits=[1, 0], team=2, kind='a')), EngineGene(engine_id=31, bits=[0, 0, 1, 0, 0, 1, 0], start_day=StartDay(bits=[1, 0, 0, 1, 0], start_day=18), team=Team(bits=[0, 0], team=0, kind='a')), EngineGene(engine_id=34, bits=[1, 0, 0, 1, 1, 1, 0], start_day=StartDay(bits=[0, 1, 1, 1, 0], start_day=14), team=Team(bits=[1, 0], team=2, kind='a')), EngineGene(engine_id=35, bits=[1, 0, 0, 0, 1, 0, 1], start_day=StartDay(bits=[0, 0, 1, 0, 1], start_day=5), team=Team(bits=[1, 0], team=2, kind='a')), EngineGene(engine_id=36, bits=[1, 1, 1, 0, 0, 1, 1], start_day=StartDay(bits=[1, 0, 0, 1, 1], start_day=19), team=Team(bits=[1, 1], team=3, kind='b')), EngineGene(engine_id=37, bits=[0, 0, 1, 0, 1, 1, 0], start_day=StartDay(bits=[1, 0, 1, 1, 0], start_day=22), team=Team(bits=[0, 0], team=0, kind='a')), EngineGene(engine_id=40, bits=[1, 0, 1, 1, 0, 0, 1], start_day=StartDay(bits=[1, 1, 0, 0, 1], start_day=25), team=Team(bits=[1, 0], team=2, kind='a')), EngineGene(engine_id=41, bits=[1, 0, 0, 1, 0, 0, 1], start_day=StartDay(bits=[0, 1, 0, 0, 1], start_day=9), team=Team(bits=[1, 0], team=2, kind='a')), EngineGene(engine_id=42, bits=[0, 1, 0, 0, 0, 0, 0], start_day=StartDay(bits=[0, 0, 0, 0, 0], start_day=9999999999), team=Team(bits=[0, 1], team=1, kind='b')), EngineGene(engine_id=49, bits=[1, 1, 1, 1, 0, 0, 1], start_day=StartDay(bits=[1, 1, 0, 0, 1], start_day=25), team=Team(bits=[1, 1], team=3, kind='b')), EngineGene(engine_id=56, bits=[0, 1, 1, 0, 1, 1, 0], start_day=StartDay(bits=[1, 0, 1, 1, 0], start_day=22), team=Team(bits=[0, 1], team=1, kind='b')), EngineGene(engine_id=61, bits=[0, 1, 0, 1, 1, 0, 1], start_day=StartDay(bits=[0, 1, 1, 0, 1], start_day=13), team=Team(bits=[0, 1], team=1, kind='b')), EngineGene(engine_id=64, bits=[1, 0, 0, 0, 0, 0, 0], start_day=StartDay(bits=[0, 0, 0, 0, 0], start_day=9999999999), team=Team(bits=[1, 0], team=2, kind='a')), EngineGene(engine_id=66, bits=[1, 0, 1, 0, 1, 0, 0], start_day=StartDay(bits=[1, 0, 1, 0, 0], start_day=20), team=Team(bits=[1, 0], team=2, kind='a')), EngineGene(engine_id=68, bits=[0, 0, 1, 1, 0, 1, 1], start_day=StartDay(bits=[1, 1, 0, 1, 1], start_day=27), team=Team(bits=[0, 0], team=0, kind='a')), EngineGene(engine_id=76, bits=[1, 1, 0, 1, 0, 1, 0], start_day=StartDay(bits=[0, 1, 0, 1, 0], start_day=10), team=Team(bits=[1, 1], team=3, kind='b')), EngineGene(engine_id=77, bits=[0, 0, 0, 1, 0, 1, 0], start_day=StartDay(bits=[0, 1, 0, 1, 0], start_day=10), team=Team(bits=[0, 0], team=0, kind='a')), EngineGene(engine_id=81, bits=[1, 1, 0, 0, 0, 0, 0], start_day=StartDay(bits=[0, 0, 0, 0, 0], start_day=9999999999), team=Team(bits=[1, 1], team=3, kind='b')), EngineGene(engine_id=82, bits=[1, 0, 0, 0, 0, 0, 0], start_day=StartDay(bits=[0, 0, 0, 0, 0], start_day=9999999999), team=Team(bits=[1, 0], team=2, kind='a')), EngineGene(engine_id=90, bits=[0, 1, 0, 0, 0, 0, 0], start_day=StartDay(bits=[0, 0, 0, 0, 0], start_day=9999999999), team=Team(bits=[0, 1], team=1, kind='b')), EngineGene(engine_id=91, bits=[1, 1, 0, 0, 0, 0, 0], start_day=StartDay(bits=[0, 0, 0, 0, 0], start_day=9999999999), team=Team(bits=[1, 1], team=3, kind='b')), EngineGene(engine_id=92, bits=[1, 1, 0, 0, 0, 0, 0], start_day=StartDay(bits=[0, 0, 0, 0, 0], start_day=9999999999), team=Team(bits=[1, 1], team=3, kind='b')), EngineGene(engine_id=100, bits=[0, 1, 0, 0, 0, 0, 1], start_day=StartDay(bits=[0, 0, 0, 0, 1], start_day=1), team=Team(bits=[0, 1], team=1, kind='b'))],\n",
      " penalty=3201), Chromosome(bits=[1, 0, 0, 1, 0, 1, 1, 1, 1, 0, 1, 1, 0, 0, 0, 1, 0, 1, 1, 0, 1, 0, 0, 1, 1, 0, 0, 1, 1, 0, 1, 0, 0, 0, 1, 0, 0, 0, 0, 0, 0, 1, 0, 1, 0, 0, 0, 1, 0, 1, 1, 1, 0, 0, 0, 1, 1, 0, 1, 0, 1, 1, 0, 0, 1, 1, 0, 1, 1, 0, 1, 1, 0, 0, 0, 0, 0, 0, 0, 0, 1, 0, 1, 0, 1, 0, 0, 0, 1, 0, 0, 0, 0, 1, 0, 1, 0, 0, 0, 0, 0, 1, 1, 1, 0, 0, 0, 0, 0, 0, 0, 0, 0, 1, 0, 1, 0, 0, 0, 1, 0, 0, 1, 0, 0, 0, 1, 1, 0, 0, 0, 0, 1, 1, 0, 0, 0, 0, 0, 0, 1, 0, 0, 0, 0, 0, 0, 1, 0, 0, 0, 0, 0, 0, 0, 1, 0, 0, 0, 0, 0, 1, 1, 0, 0, 0, 0, 0],\n",
      " engine_genes=[EngineGene(engine_id=20, bits=[1, 0, 0, 1, 0, 1, 1], start_day=StartDay(bits=[0, 1, 0, 1, 1], start_day=11), team=Team(bits=[1, 0], team=2, kind='a')), EngineGene(engine_id=24, bits=[1, 1, 0, 1, 1, 0, 0], start_day=StartDay(bits=[0, 1, 1, 0, 0], start_day=12), team=Team(bits=[1, 1], team=3, kind='b')), EngineGene(engine_id=31, bits=[0, 1, 0, 1, 1, 0, 1], start_day=StartDay(bits=[0, 1, 1, 0, 1], start_day=13), team=Team(bits=[0, 1], team=1, kind='b')), EngineGene(engine_id=34, bits=[0, 0, 1, 1, 0, 0, 1], start_day=StartDay(bits=[1, 1, 0, 0, 1], start_day=25), team=Team(bits=[0, 0], team=0, kind='a')), EngineGene(engine_id=35, bits=[1, 0, 1, 0, 0, 0, 1], start_day=StartDay(bits=[1, 0, 0, 0, 1], start_day=17), team=Team(bits=[1, 0], team=2, kind='a')), EngineGene(engine_id=36, bits=[0, 0, 0, 0, 0, 0, 1], start_day=StartDay(bits=[0, 0, 0, 0, 1], start_day=1), team=Team(bits=[0, 0], team=0, kind='a')), EngineGene(engine_id=37, bits=[0, 1, 0, 0, 0, 1, 0], start_day=StartDay(bits=[0, 0, 0, 1, 0], start_day=2), team=Team(bits=[0, 1], team=1, kind='b')), EngineGene(engine_id=40, bits=[1, 1, 1, 0, 0, 0, 1], start_day=StartDay(bits=[1, 0, 0, 0, 1], start_day=17), team=Team(bits=[1, 1], team=3, kind='b')), EngineGene(engine_id=41, bits=[1, 0, 1, 0, 1, 1, 0], start_day=StartDay(bits=[1, 0, 1, 1, 0], start_day=22), team=Team(bits=[1, 0], team=2, kind='a')), EngineGene(engine_id=42, bits=[0, 1, 1, 0, 1, 1, 0], start_day=StartDay(bits=[1, 0, 1, 1, 0], start_day=22), team=Team(bits=[0, 1], team=1, kind='b')), EngineGene(engine_id=49, bits=[1, 1, 0, 0, 0, 0, 0], start_day=StartDay(bits=[0, 0, 0, 0, 0], start_day=9999999999), team=Team(bits=[1, 1], team=3, kind='b')), EngineGene(engine_id=56, bits=[0, 0, 0, 1, 0, 1, 0], start_day=StartDay(bits=[0, 1, 0, 1, 0], start_day=10), team=Team(bits=[0, 0], team=0, kind='a')), EngineGene(engine_id=61, bits=[1, 0, 0, 0, 1, 0, 0], start_day=StartDay(bits=[0, 0, 1, 0, 0], start_day=4), team=Team(bits=[1, 0], team=2, kind='a')), EngineGene(engine_id=64, bits=[0, 0, 1, 0, 1, 0, 0], start_day=StartDay(bits=[1, 0, 1, 0, 0], start_day=20), team=Team(bits=[0, 0], team=0, kind='a')), EngineGene(engine_id=66, bits=[0, 0, 0, 1, 1, 1, 0], start_day=StartDay(bits=[0, 1, 1, 1, 0], start_day=14), team=Team(bits=[0, 0], team=0, kind='a')), EngineGene(engine_id=68, bits=[0, 0, 0, 0, 0, 0, 0], start_day=StartDay(bits=[0, 0, 0, 0, 0], start_day=9999999999), team=Team(bits=[0, 0], team=0, kind='a')), EngineGene(engine_id=76, bits=[0, 1, 0, 1, 0, 0, 0], start_day=StartDay(bits=[0, 1, 0, 0, 0], start_day=8), team=Team(bits=[0, 1], team=1, kind='b')), EngineGene(engine_id=77, bits=[1, 0, 0, 1, 0, 0, 0], start_day=StartDay(bits=[0, 1, 0, 0, 0], start_day=8), team=Team(bits=[1, 0], team=2, kind='a')), EngineGene(engine_id=81, bits=[1, 1, 0, 0, 0, 0, 1], start_day=StartDay(bits=[0, 0, 0, 0, 1], start_day=1), team=Team(bits=[1, 1], team=3, kind='b')), EngineGene(engine_id=82, bits=[1, 0, 0, 0, 0, 0, 0], start_day=StartDay(bits=[0, 0, 0, 0, 0], start_day=9999999999), team=Team(bits=[1, 0], team=2, kind='a')), EngineGene(engine_id=90, bits=[1, 0, 0, 0, 0, 0, 0], start_day=StartDay(bits=[0, 0, 0, 0, 0], start_day=9999999999), team=Team(bits=[1, 0], team=2, kind='a')), EngineGene(engine_id=91, bits=[1, 0, 0, 0, 0, 0, 0], start_day=StartDay(bits=[0, 0, 0, 0, 0], start_day=9999999999), team=Team(bits=[1, 0], team=2, kind='a')), EngineGene(engine_id=92, bits=[0, 1, 0, 0, 0, 0, 0], start_day=StartDay(bits=[0, 0, 0, 0, 0], start_day=9999999999), team=Team(bits=[0, 1], team=1, kind='b')), EngineGene(engine_id=100, bits=[1, 1, 0, 0, 0, 0, 0], start_day=StartDay(bits=[0, 0, 0, 0, 0], start_day=9999999999), team=Team(bits=[1, 1], team=3, kind='b'))],\n",
      " penalty=2453)]\n"
     ]
    }
   ],
   "source": [
    "import concurrent.futures\n",
    "import random\n",
    "from ass_3.chromosome import Chromosome\n",
    "from ass_3.constraints import Day31Constraint, CompletesMaintenanceIn30Days, TeamWorksAtOneEngine\n",
    "from ass_3.constraints import Constraint\n",
    "from ass_3.constraints import chromosome_meets_all_constraints\n",
    "from ass_3.initialization import initialize_population\n",
    "\n",
    "CONSTRAINTS = [\n",
    "    TeamWorksAtOneEngine(),\n",
    "    Day31Constraint(),\n",
    "    CompletesMaintenanceIn30Days(),\n",
    "]\n",
    "population_size = 2\n",
    "nr_of_bits = 168\n",
    "constraints = CONSTRAINTS  # Add appropriate constraints here\n",
    "num_cores = 10  # Number of cores to use\n",
    "\n",
    "population = initialize_population(population_size, nr_of_bits, constraints)\n",
    "print(\"Population initialized:\", population)"
   ]
  },
  {
   "cell_type": "code",
   "execution_count": 7,
   "metadata": {},
   "outputs": [
    {
     "data": {
      "text/plain": [
       "True"
      ]
     },
     "execution_count": 7,
     "metadata": {},
     "output_type": "execute_result"
    }
   ],
   "source": [
    "chromosome_meets_all_constraints(population[19], constraints) "
   ]
  },
  {
   "cell_type": "code",
   "execution_count": 16,
   "metadata": {},
   "outputs": [
    {
     "name": "stdout",
     "output_type": "stream",
     "text": [
      "     id type  teams  safety       start  main          end  pen\n",
      "21   91    a      1      29           1     8            9    0\n",
      "0    20    a      1      10          11     4           15    4\n",
      "12   61    a      1      23          17     2           19    0\n",
      "1    24    a      1      26          24     3           27    0\n",
      "16   76    a      1       3          28     2           30  250\n",
      "15   68    a      1      13  9999999999     2  10000000001  250\n",
      "18   81    a      1       6  9999999999     8  10000000007  250\n",
      "19   82    a      1      11  9999999999     8  10000000007  250\n",
      "2    31    b      2      14           3     5            8    0\n",
      "6    37    b      2      21          11     5           16    0\n",
      "4    35    b      2       8          17     5           22  162\n",
      "9    42    b      2      13          23     5           28  200\n",
      "23  100    b      2      24  9999999999     9  10000000008  250\n",
      "14   66    a      3      18           2     2            4    0\n",
      "8    41    a      3      23           5     3            8    0\n",
      "13   64    a      3      24          14     2           16    0\n",
      "17   77    a      3      27          17     2           19    0\n",
      "5    36    a      3      24          26     3           29    8\n",
      "7    40    a      3      29  9999999999     3  10000000002  250\n",
      "3    34    b      4       8           5     5           10    0\n",
      "10   49    b      4      14          13     5           18    0\n",
      "11   56    b      4      18          25     4           29  245\n",
      "20   90    b      4      28  9999999999     9  10000000008  250\n",
      "22   92    b      4      24  9999999999     9  10000000008  250\n"
     ]
    }
   ],
   "source": [
    "import pandas as pd \n",
    "\n",
    "engine_ids = population[0].engine_ids\n",
    "teams_kind = [engine_gene.team.kind for engine_gene in population[0].engine_genes]\n",
    "teams = [engine_gene.team.team + 1 for engine_gene in population[0].engine_genes]\n",
    "safety_day = [engine_gene.engine.safety_day for engine_gene in population[0].engine_genes]\n",
    "start_day = [engine_gene.start_day.start_day for engine_gene in population[0].engine_genes]\n",
    "end_day = [engine_gene.start_day.start_day + engine_gene.maintenance_time for engine_gene in population[0].engine_genes]\n",
    "penalty = [engine_gene.penalty.penalty for engine_gene in population[0].engine_genes]\n",
    "maintenance_time = [engine_gene.maintenance_time for engine_gene in population[0].engine_genes]\n",
    "\n",
    "dict_final = {'id' : engine_ids,\n",
    "                  'type' : teams_kind,\n",
    "                  'teams' : teams,\n",
    "                  'safety' : safety_day,\n",
    "                  'start' : start_day,\n",
    "                  'main': maintenance_time,\n",
    "                  'end' : end_day,\n",
    "                  'pen' : penalty}\n",
    "    \n",
    "df_final = pd.DataFrame(dict_final)\n",
    "print(df_final.sort_values([\"teams\", \"start\"], axis=0))"
   ]
  },
  {
   "cell_type": "code",
   "execution_count": 71,
   "metadata": {},
   "outputs": [
    {
     "data": {
      "text/plain": [
       "False"
      ]
     },
     "execution_count": 71,
     "metadata": {},
     "output_type": "execute_result"
    }
   ],
   "source": [
    "def flip_bit(bit:int):\n",
    "    \"\"\"\n",
    "    Flip the value of a bit.\n",
    "\n",
    "    Parameters:\n",
    "    - bit (int): The bit to be flipped.\n",
    "\n",
    "    Returns:\n",
    "    - int: The flipped bit.\n",
    "    \"\"\"\n",
    "    \n",
    "    if bit > 0:\n",
    "        bit = 0\n",
    "    else:\n",
    "        bit = 1\n",
    "    \n",
    "    return bit\n",
    "\n",
    "bits = population[0].bits.copy()\n",
    "for i, bit in enumerate(bits):\n",
    "    r = random.uniform(0, 1)\n",
    "    if 0.01 > r:\n",
    "        bits[i] = flip_bit(bit)\n",
    "    else: \n",
    "        continue\n",
    "\n",
    "population[0].bits == bits"
   ]
  },
  {
   "cell_type": "code",
   "execution_count": 74,
   "metadata": {},
   "outputs": [
    {
     "data": {
      "text/plain": [
       "False"
      ]
     },
     "execution_count": 74,
     "metadata": {},
     "output_type": "execute_result"
    }
   ],
   "source": [
    "chromosome_meets_all_constraints(Chromosome(bits), constraints)"
   ]
  },
  {
   "cell_type": "code",
   "execution_count": 82,
   "metadata": {},
   "outputs": [],
   "source": [
    "while True:\n",
    "    bits = population[0].bits.copy()\n",
    "    for i, bit in enumerate(bits):\n",
    "        r = random.uniform(0, 1)\n",
    "        if 0.1 > r:\n",
    "            bits[i] = flip_bit(bit)\n",
    "        else: \n",
    "            continue\n",
    "    if chromosome_meets_all_constraints(Chromosome(bits), constraints):\n",
    "        valid_mutation = Chromosome(bits)\n",
    "        break"
   ]
  },
  {
   "cell_type": "code",
   "execution_count": null,
   "metadata": {},
   "outputs": [],
   "source": []
  },
  {
   "cell_type": "code",
   "execution_count": 80,
   "metadata": {},
   "outputs": [
    {
     "data": {
      "text/plain": [
       "True"
      ]
     },
     "execution_count": 80,
     "metadata": {},
     "output_type": "execute_result"
    }
   ],
   "source": [
    "\n",
    "chromosome_meets_all_constraints(valid_mutation, constraints)"
   ]
  },
  {
   "cell_type": "code",
   "execution_count": 95,
   "metadata": {},
   "outputs": [
    {
     "name": "stdout",
     "output_type": "stream",
     "text": [
      "[2, 2, 2, 2, 2, 2, 2, 2, 2, 2]\n"
     ]
    }
   ],
   "source": [
    "import concurrent.futures\n",
    "import time\n",
    "\n",
    "def your_function(args):\n",
    "    # Define your function here\n",
    "    # This function should return the object you want to add to the results list\n",
    "    time.sleep(2)\n",
    "    return 2\n",
    "\n",
    "\n",
    "def run_parallel(function, arguments_list, max_results):\n",
    "    results = []\n",
    "    with concurrent.futures.ProcessPoolExecutor(max_workers=1) as executor:\n",
    "        # futures = executor.submit(function, 1)\n",
    "        futures = [executor.submit(function, args) for args in arguments_list]\n",
    "        while len(results) < max_results:\n",
    "            for future in concurrent.futures.as_completed(futures):\n",
    "                result = future.result()\n",
    "                results.append(result)\n",
    "                if len(results) >= max_results:\n",
    "                    break\n",
    "            if len(results) >= max_results:\n",
    "                break\n",
    "    return results\n",
    "\n",
    "# Example usage\n",
    "arguments_list = [0]  # List of arguments to pass to your_function\n",
    "max_results = 10  # Maximum number of results desired\n",
    "results = run_parallel(your_function, arguments_list, max_results)\n",
    "print(results)\n"
   ]
  }
 ],
 "metadata": {
  "kernelspec": {
   "display_name": ".venv",
   "language": "python",
   "name": "python3"
  },
  "language_info": {
   "codemirror_mode": {
    "name": "ipython",
    "version": 3
   },
   "file_extension": ".py",
   "mimetype": "text/x-python",
   "name": "python",
   "nbconvert_exporter": "python",
   "pygments_lexer": "ipython3",
   "version": "3.11.5"
  }
 },
 "nbformat": 4,
 "nbformat_minor": 2
}
